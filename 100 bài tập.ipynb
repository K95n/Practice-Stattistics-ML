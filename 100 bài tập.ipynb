{
 "cells": [
  {
   "cell_type": "code",
   "execution_count": 11,
   "metadata": {},
   "outputs": [
    {
     "name": "stdout",
     "output_type": "stream",
     "text": [
      "nhap n:\n",
      "10\n",
      "a! = 3628800\n"
     ]
    }
   ],
   "source": [
    "print('nhap n:')\n",
    "n = input()\n",
    "m = int(n)\n",
    "a = 1\n",
    "for i in range(1,m+1):\n",
    "    a*=i\n",
    "print('a! =',a)"
   ]
  },
  {
   "cell_type": "code",
   "execution_count": 13,
   "metadata": {},
   "outputs": [
    {
     "name": "stdout",
     "output_type": "stream",
     "text": [
      "Nhập số cần tính giai thừa:0\n",
      "1\n"
     ]
    }
   ],
   "source": [
    "x=int(input(\"Nhập số cần tính giai thừa:\"))\n",
    "def fact(x):\n",
    "    if x == 0:\n",
    "        return 1\n",
    "    return x * fact(x - 1)\n",
    "print (fact(x))"
   ]
  },
  {
   "cell_type": "code",
   "execution_count": 20,
   "metadata": {},
   "outputs": [
    {
     "name": "stdout",
     "output_type": "stream",
     "text": [
      "Nhập số cần tính giai thừa:0\n",
      "1\n"
     ]
    }
   ],
   "source": [
    "x=int(input(\"Nhập số cần tính giai thừa:\"))\n",
    "def fact(x):\n",
    "    if x == 0: \n",
    "        return 1\n",
    "    return x * fact(x - 1)\n",
    "print (fact(x))"
   ]
  },
  {
   "cell_type": "code",
   "execution_count": 30,
   "metadata": {},
   "outputs": [
    {
     "name": "stdout",
     "output_type": "stream",
     "text": [
      "nhập số cần tạo dic:10\n",
      "{1: 1, 2: 4, 3: 9, 4: 16, 5: 25, 6: 36, 7: 49, 8: 64, 9: 81, 10: 100}\n"
     ]
    }
   ],
   "source": [
    "n = int(input('nhập số cần tạo dic:'))\n",
    "d = dict()\n",
    "def tao_dic(n):\n",
    "    for i in range(1,n+1):\n",
    "        d[i] = i*i\n",
    "    return d\n",
    "print(tao_dic(n))"
   ]
  },
  {
   "cell_type": "code",
   "execution_count": 33,
   "metadata": {},
   "outputs": [
    {
     "name": "stdout",
     "output_type": "stream",
     "text": [
      "12,3,4,5,2,4,5\n",
      "['12', '3', '4', '5', '2', '4', '5']\n",
      "('12', '3', '4', '5', '2', '4', '5')\n"
     ]
    }
   ],
   "source": [
    "n = input()\n",
    "m = n.split(',')\n",
    "b = tuple(m)\n",
    "print(m)\n",
    "print(b)"
   ]
  },
  {
   "cell_type": "code",
   "execution_count": 11,
   "metadata": {},
   "outputs": [
    {
     "name": "stdout",
     "output_type": "stream",
     "text": [
      "le\n"
     ]
    },
    {
     "data": {
      "text/plain": [
       "'LE'"
      ]
     },
     "execution_count": 11,
     "metadata": {},
     "output_type": "execute_result"
    }
   ],
   "source": [
    "class Kien_anh:\n",
    "    def __init__(self,nhapvao,inra):\n",
    "        self.nhapvao = nhapvao\n",
    "        self.inra = inra\n",
    "    def getString(self):\n",
    "        self.nhapvao = input()\n",
    "    def printString(self):\n",
    "        return self.nhapvao.upper()\n",
    "        \n",
    "wth = Kien_anh(1,2)\n",
    "wth.getString()\n",
    "wth.printString()"
   ]
  },
  {
   "cell_type": "code",
   "execution_count": 86,
   "metadata": {},
   "outputs": [
    {
     "name": "stdout",
     "output_type": "stream",
     "text": [
      "Nhập chuỗi:le quang kien\n",
      "LE QUANG KIEN\n"
     ]
    }
   ],
   "source": [
    "class InputOutString(object):\n",
    "    def __init__(self):\n",
    "        self.s = \"\"\n",
    "\n",
    "    def getString(self):\n",
    "        self.s = input(\"Nhập chuỗi:\")\n",
    "    def printString(self):\n",
    "        print (self.s.upper())\n",
    "\n",
    "strObj = InputOutString()\n",
    "strObj.getString()\n",
    "strObj.printString()"
   ]
  },
  {
   "cell_type": "code",
   "execution_count": 3,
   "metadata": {},
   "outputs": [
    {
     "name": "stdout",
     "output_type": "stream",
     "text": [
      "nhập n: 6\n",
      "36\n"
     ]
    }
   ],
   "source": [
    "n = int(input('nhập n: '))\n",
    "def kien(n):\n",
    "    return n**2\n",
    "print(kien(n))"
   ]
  },
  {
   "cell_type": "code",
   "execution_count": 4,
   "metadata": {},
   "outputs": [
    {
     "name": "stdout",
     "output_type": "stream",
     "text": [
      "Return the absolute value of the argument.\n",
      "int([x]) -> integer\n",
      "int(x, base=10) -> integer\n",
      "\n",
      "Convert a number or string to an integer, or return 0 if no arguments\n",
      "are given.  If x is a number, return x.__int__().  For floating point\n",
      "numbers, this truncates towards zero.\n",
      "\n",
      "If x is not a number or if base is given, then x must be a string,\n",
      "bytes, or bytearray instance representing an integer literal in the\n",
      "given base.  The literal can be preceded by '+' or '-' and be surrounded\n",
      "by whitespace.  The base defaults to 10.  Valid bases are 0 and 2-36.\n",
      "Base 0 means to interpret the base from the string as an integer literal.\n",
      ">>> int('0b100', base=0)\n",
      "4\n",
      "Forward raw_input to frontends\n",
      "\n",
      "        Raises\n",
      "        ------\n",
      "        StdinNotImplentedError if active frontend doesn't support stdin.\n",
      "        \n"
     ]
    }
   ],
   "source": [
    "print (abs.__doc__)\n",
    "print (int.__doc__)\n",
    "print (input.__doc__)"
   ]
  },
  {
   "cell_type": "code",
   "execution_count": 9,
   "metadata": {},
   "outputs": [
    {
     "name": "stdout",
     "output_type": "stream",
     "text": [
      "Return the absolute value of the argument.\n",
      "int([x]) -> integer\n",
      "int(x, base=10) -> integer\n",
      "\n",
      "Convert a number or string to an integer, or return 0 if no arguments\n",
      "are given.  If x is a number, return x.__int__().  For floating point\n",
      "numbers, this truncates towards zero.\n",
      "\n",
      "If x is not a number or if base is given, then x must be a string,\n",
      "bytes, or bytearray instance representing an integer literal in the\n",
      "given base.  The literal can be preceded by '+' or '-' and be surrounded\n",
      "by whitespace.  The base defaults to 10.  Valid bases are 0 and 2-36.\n",
      "Base 0 means to interpret the base from the string as an integer literal.\n",
      ">>> int('0b100', base=0)\n",
      "4\n",
      "Forward raw_input to frontends\n",
      "\n",
      "        Raises\n",
      "        ------\n",
      "        StdinNotImplentedError if active frontend doesn't support stdin.\n",
      "        \n",
      "None\n"
     ]
    }
   ],
   "source": [
    "print (abs.__doc__)\n",
    "print (int.__doc__)\n",
    "print (input.__doc__)\n",
    "# Code by Quantrimang.com\n",
    "def square(num):\n",
    "# Trả lại giá trị bình phương của số được nhập vào.Số nhập vào phải là số nguyên.'''\n",
    "    return num ** 2\n",
    "print (square.__doc__)"
   ]
  },
  {
   "cell_type": "code",
   "execution_count": 29,
   "metadata": {},
   "outputs": [
    {
     "name": "stdout",
     "output_type": "stream",
     "text": [
      "nhap n: 2\n"
     ]
    },
    {
     "data": {
      "text/plain": [
       "4"
      ]
     },
     "execution_count": 29,
     "metadata": {},
     "output_type": "execute_result"
    }
   ],
   "source": [
    "class lop:\n",
    "    def init(self):\n",
    "        self.tham_so = int(input('nhap n: '))\n",
    "    def square(self):\n",
    "        return self.tham_so **2\n",
    "lop_1 = lop()\n",
    "lop_1.init()\n",
    "lop_1.square()"
   ]
  },
  {
   "cell_type": "code",
   "execution_count": 7,
   "metadata": {},
   "outputs": [
    {
     "ename": "ValueError",
     "evalue": "Invalid format specifier",
     "output_type": "error",
     "traceback": [
      "\u001b[1;31m---------------------------------------------------------------------------\u001b[0m",
      "\u001b[1;31mValueError\u001b[0m                                Traceback (most recent call last)",
      "\u001b[1;32m<ipython-input-7-d3489f7a6faa>\u001b[0m in \u001b[0;36m<module>\u001b[1;34m\u001b[0m\n\u001b[0;32m      6\u001b[0m \u001b[1;33m\u001b[0m\u001b[0m\n\u001b[0;32m      7\u001b[0m \u001b[0mjeffrey\u001b[0m \u001b[1;33m=\u001b[0m \u001b[0mPerson\u001b[0m\u001b[1;33m(\u001b[0m\u001b[1;34m\"Jeffrey\"\u001b[0m\u001b[1;33m)\u001b[0m\u001b[1;33m\u001b[0m\u001b[1;33m\u001b[0m\u001b[0m\n\u001b[1;32m----> 8\u001b[1;33m \u001b[0mprint\u001b[0m \u001b[1;33m(\u001b[0m\u001b[1;34m\"{1} name is {2}\"\u001b[0m\u001b[1;33m,\u001b[0m\u001b[0mformat\u001b[0m\u001b[1;33m(\u001b[0m\u001b[0mPerson\u001b[0m\u001b[1;33m.\u001b[0m\u001b[0mname\u001b[0m\u001b[1;33m,\u001b[0m \u001b[0mjeffrey\u001b[0m\u001b[1;33m.\u001b[0m\u001b[0mname\u001b[0m\u001b[1;33m)\u001b[0m\u001b[1;33m)\u001b[0m\u001b[1;33m\u001b[0m\u001b[1;33m\u001b[0m\u001b[0m\n\u001b[0m\u001b[0;32m      9\u001b[0m \u001b[1;33m\u001b[0m\u001b[0m\n\u001b[0;32m     10\u001b[0m \u001b[0mnico\u001b[0m \u001b[1;33m=\u001b[0m \u001b[0mPerson\u001b[0m\u001b[1;33m(\u001b[0m\u001b[1;33m)\u001b[0m\u001b[1;33m\u001b[0m\u001b[1;33m\u001b[0m\u001b[0m\n",
      "\u001b[1;31mValueError\u001b[0m: Invalid format specifier"
     ]
    }
   ],
   "source": [
    "class Person:\n",
    "    name = \"Person\"\n",
    "    def __init__(self, name = None):\n",
    " # self.name là biến instance\n",
    "        self.name = name\n",
    "\n",
    "jeffrey = Person(\"Jeffrey\")\n",
    "print (\"{1} name is {2}\",format(Person.name, jeffrey.name))\n",
    "\n",
    "nico = Person()\n",
    "nico.name = \"Nico\"\n",
    "print (\"%s name is %s\" % (Person.name, nico.name))"
   ]
  },
  {
   "cell_type": "markdown",
   "metadata": {},
   "source": [
    "n = input()\n",
    "m = n.split()\n",
    "print(m)"
   ]
  },
  {
   "cell_type": "code",
   "execution_count": 39,
   "metadata": {},
   "outputs": [
    {
     "name": "stdout",
     "output_type": "stream",
     "text": [
      "nhap chuoi gia tri: 100,150,180\n",
      "18\n",
      "22\n",
      "24\n",
      "None\n"
     ]
    }
   ],
   "source": [
    "d = input('nhap chuoi gia tri: ')\n",
    "D = iter(d.split(','))\n",
    "def canbac2():\n",
    "    C = 50\n",
    "    H = 30\n",
    "    for i in D:\n",
    "        a = int(pow((2*C*float(i))/H,1/2))\n",
    "        print(a)\n",
    "print(canbac2())"
   ]
  },
  {
   "cell_type": "code",
   "execution_count": 36,
   "metadata": {},
   "outputs": [
    {
     "name": "stdout",
     "output_type": "stream",
     "text": [
      "Nhập giá trị của d: 100,150,180\n",
      "18,22,24\n"
     ]
    }
   ],
   "source": [
    "import math\n",
    "c=50\n",
    "h=30\n",
    "value = []\n",
    "items=[x for x in input(\"Nhập giá trị của d: \").split(',')]\n",
    "for d in items:\n",
    "    value.append(str(int(round(math.sqrt(2*c*float(d)/h)))))\n",
    "print (','.join(value))"
   ]
  },
  {
   "cell_type": "code",
   "execution_count": 46,
   "metadata": {},
   "outputs": [
    {
     "name": "stdout",
     "output_type": "stream",
     "text": [
      "Cột thứ 3 = [5, 9, 11]\n"
     ]
    }
   ],
   "source": [
    "A = [[1, 4, 5, 12], [-5, 8, 9, 0],[-6, 7, 11, 19]]\n",
    "column = []; \n",
    "for row in A:\n",
    "    column.append(row[2])\n",
    "\n",
    "print(\"Cột thứ 3 =\", column)"
   ]
  },
  {
   "cell_type": "code",
   "execution_count": 44,
   "metadata": {},
   "outputs": [
    {
     "name": "stdout",
     "output_type": "stream",
     "text": [
      "[[1 2 3]\n",
      " [3 4 5]]\n",
      "[[1.1 2.  3. ]\n",
      " [3.  4.  5. ]]\n",
      "[[1.+0.j 2.+0.j 3.+0.j]\n",
      " [3.+0.j 4.+0.j 5.+0.j]]\n"
     ]
    }
   ],
   "source": [
    "import numpy as np\n",
    "\n",
    "A = np.array([[1, 2, 3], [3, 4, 5]])\n",
    "print(A)\n",
    "\n",
    "A = np.array([[1.1, 2, 3], [3, 4, 5]]) # mảng số thực\n",
    "print(A)\n",
    "\n",
    "A = np.array([[1, 2, 3], [3, 4, 5]], dtype = complex) # mảng số phức\n",
    "print(A)"
   ]
  },
  {
   "cell_type": "code",
   "execution_count": 47,
   "metadata": {},
   "outputs": [
    {
     "name": "stdout",
     "output_type": "stream",
     "text": [
      "A = [3]\n"
     ]
    }
   ],
   "source": [
    "import numpy as np\n",
    "\n",
    "A = np.arange()\n",
    "print('A =', A)"
   ]
  },
  {
   "cell_type": "code",
   "execution_count": 67,
   "metadata": {},
   "outputs": [
    {
     "name": "stdout",
     "output_type": "stream",
     "text": [
      "Nhập X, Y: 2,3\n",
      "[[0, 0, 0], [0, 1, 2]]\n"
     ]
    }
   ],
   "source": [
    "input_str = input(\"Nhập X, Y: \")\n",
    "dimensions=[int(x) for x in input_str.split(',')]\n",
    "rowNum=dimensions[0]\n",
    "colNum=dimensions[1]\n",
    "multilist = [[0 for col in range(colNum)] for row in range(rowNum)]\n",
    "for row in range(rowNum):\n",
    "    for col in range(colNum):\n",
    "        multilist[row][col]= row*col\n",
    "\n",
    "print (multilist)"
   ]
  },
  {
   "cell_type": "code",
   "execution_count": 66,
   "metadata": {},
   "outputs": [
    {
     "name": "stdout",
     "output_type": "stream",
     "text": [
      "Nhập X, Y: 2,3\n",
      "[2, 3]\n"
     ]
    }
   ],
   "source": [
    "input_str = input(\"Nhập X, Y: \")\n",
    "a = [int(x) for x in input_str.split(',')]\n",
    "print(a)"
   ]
  },
  {
   "cell_type": "code",
   "execution_count": 72,
   "metadata": {},
   "outputs": [
    {
     "name": "stdout",
     "output_type": "stream",
     "text": [
      "Nhập một chuỗi: kien, phuong anh\n",
      " phuong anh,kien\n",
      "<class 'list'>\n"
     ]
    }
   ],
   "source": [
    "items=[x for x in input(\"Nhập một chuỗi: \").split(',')]\n",
    "items.sort()\n",
    "print (','.join(items))\n"
   ]
  },
  {
   "cell_type": "code",
   "execution_count": 2,
   "metadata": {},
   "outputs": [
    {
     "name": "stdout",
     "output_type": "stream",
     "text": [
      "Nhập một chuỗi: le quang kien\n",
      "<class 'list'>\n",
      "[['LE QUANG KIEN']]\n"
     ]
    }
   ],
   "source": [
    "a=[input(\"Nhập một chuỗi: \").split(',')]\n",
    "b=str(a).upper()\n",
    "print (b)"
   ]
  },
  {
   "cell_type": "code",
   "execution_count": null,
   "metadata": {},
   "outputs": [
    {
     "name": "stdout",
     "output_type": "stream",
     "text": [
      "le quang kien\n",
      "0\n"
     ]
    }
   ],
   "source": [
    "lines = []\n",
    "while True:\n",
    "    s = input()\n",
    "    if s:\n",
    "        lines.append(s.upper())\n",
    "    else:\n",
    "        break;\n",
    "for sentence in lines:\n",
    "    print (sentence)"
   ]
  },
  {
   "cell_type": "code",
   "execution_count": 1,
   "metadata": {},
   "outputs": [
    {
     "name": "stdout",
     "output_type": "stream",
     "text": [
      "Nhập một chuỗi: le quang kien\n",
      "[['LE QUANG KIEN']]\n"
     ]
    }
   ],
   "source": [
    "a=[input(\"Nhập một chuỗi: \").split(',')]\n",
    "b=str(a).upper()\n",
    "print (b)"
   ]
  },
  {
   "cell_type": "code",
   "execution_count": 36,
   "metadata": {},
   "outputs": [
    {
     "name": "stdout",
     "output_type": "stream",
     "text": [
      "nhap chuoi:le le quang kien\n",
      "kien le quang\n"
     ]
    }
   ],
   "source": [
    "n = input(\"nhap chuoi:\")\n",
    "m = [x for x in n.split(' ')]\n",
    "print(\" \".join(sorted(list(set(m)))))"
   ]
  },
  {
   "cell_type": "code",
   "execution_count": 34,
   "metadata": {},
   "outputs": [
    {
     "name": "stdout",
     "output_type": "stream",
     "text": [
      "Nhập chuỗi của bạn: le quang kien\n",
      "<class 'list'>\n",
      "kien le quang\n"
     ]
    }
   ],
   "source": [
    "s = input(\"Nhập chuỗi của bạn: \")\n",
    "words = [word for word in s.split(\" \")]\n",
    "print (type(words))\n",
    "print (\" \".join(sorted(list(set(words)))))"
   ]
  },
  {
   "cell_type": "code",
   "execution_count": 39,
   "metadata": {},
   "outputs": [
    {
     "name": "stdout",
     "output_type": "stream",
     "text": [
      "nhap chuoi:le quang kien\n",
      "[]\n"
     ]
    }
   ],
   "source": [
    "n = [input('nhap chuoi:').split(' ')]\n",
    "del n[0]\n",
    "print(n)"
   ]
  },
  {
   "cell_type": "code",
   "execution_count": 1,
   "metadata": {},
   "outputs": [
    {
     "name": "stdout",
     "output_type": "stream",
     "text": [
      "nhap chuoi:le le quang kien\n",
      "['le', 'le', 'quang', 'kien']\n"
     ]
    }
   ],
   "source": [
    "m = input('nhap chuoi:')\n",
    "n = [word for word in m.split(' ')]\n",
    "print(n)"
   ]
  },
  {
   "cell_type": "code",
   "execution_count": 1,
   "metadata": {},
   "outputs": [
    {
     "name": "stdout",
     "output_type": "stream",
     "text": [
      "\n"
     ]
    }
   ],
   "source": [
    "value = []\n",
    "n = [input('nhap so:').split(',')]\n",
    "print(n)\n",
    "def timso_chiahet5(): \n",
    "    m = [x for x in ]\n",
    "    for x in m:\n",
    "        if int(x) % 5 == 0:\n",
    "            value.append(x)\n",
    "print(','.join(value))"
   ]
  },
  {
   "cell_type": "code",
   "execution_count": 2,
   "metadata": {},
   "outputs": [
    {
     "name": "stdout",
     "output_type": "stream",
     "text": [
      "Nhập các số nhị phân: 1001,1100,0110\n",
      "1100,0110\n",
      "None\n"
     ]
    }
   ],
   "source": [
    "\n",
    "def timso_chiahet5():\n",
    "    value = []\n",
    "    items=[x for x in input(\"Nhập các số nhị phân: \").split(',')]\n",
    "    for p in items:\n",
    "        if int(p)%5 == 0:\n",
    "            value.append(p)\n",
    "    print(','.join(value))\n",
    "print (timso_chiahet5())"
   ]
  },
  {
   "cell_type": "code",
   "execution_count": 4,
   "metadata": {},
   "outputs": [
    {
     "name": "stdout",
     "output_type": "stream",
     "text": [
      "2000,2002,2004,2006,2008,2010,2012,2014,2016,2018,2020,2022,2024,2026,2028,2030,2032,2034,2036,2038,2040,2042,2044,2046,2048,2050,2052,2054,2056,2058,2060,2062,2064,2066,2068,2070,2072,2074,2076,2078,2080,2082,2084,2086,2088,2090,2092,2094,2096,2098,2100,2102,2104,2106,2108,2110,2112,2114,2116,2118,2120,2122,2124,2126,2128,2130,2132,2134,2136,2138,2140,2142,2144,2146,2148,2150,2152,2154,2156,2158,2160,2162,2164,2166,2168,2170,2172,2174,2176,2178,2180,2182,2184,2186,2188,2190,2192,2194,2196,2198,2200,2202,2204,2206,2208,2210,2212,2214,2216,2218,2220,2222,2224,2226,2228,2230,2232,2234,2236,2238,2240,2242,2244,2246,2248,2250,2252,2254,2256,2258,2260,2262,2264,2266,2268,2270,2272,2274,2276,2278,2280,2282,2284,2286,2288,2290,2292,2294,2296,2298,2300,2302,2304,2306,2308,2310,2312,2314,2316,2318,2320,2322,2324,2326,2328,2330,2332,2334,2336,2338,2340,2342,2344,2346,2348,2350,2352,2354,2356,2358,2360,2362,2364,2366,2368,2370,2372,2374,2376,2378,2380,2382,2384,2386,2388,2390,2392,2394,2396,2398,2400,2402,2404,2406,2408,2410,2412,2414,2416,2418,2420,2422,2424,2426,2428,2430,2432,2434,2436,2438,2440,2442,2444,2446,2448,2450,2452,2454,2456,2458,2460,2462,2464,2466,2468,2470,2472,2474,2476,2478,2480,2482,2484,2486,2488,2490,2492,2494,2496,2498,2500,2502,2504,2506,2508,2510,2512,2514,2516,2518,2520,2522,2524,2526,2528,2530,2532,2534,2536,2538,2540,2542,2544,2546,2548,2550,2552,2554,2556,2558,2560,2562,2564,2566,2568,2570,2572,2574,2576,2578,2580,2582,2584,2586,2588,2590,2592,2594,2596,2598,2600,2602,2604,2606,2608,2610,2612,2614,2616,2618,2620,2622,2624,2626,2628,2630,2632,2634,2636,2638,2640,2642,2644,2646,2648,2650,2652,2654,2656,2658,2660,2662,2664,2666,2668,2670,2672,2674,2676,2678,2680,2682,2684,2686,2688,2690,2692,2694,2696,2698,2700,2702,2704,2706,2708,2710,2712,2714,2716,2718,2720,2722,2724,2726,2728,2730,2732,2734,2736,2738,2740,2742,2744,2746,2748,2750,2752,2754,2756,2758,2760,2762,2764,2766,2768,2770,2772,2774,2776,2778,2780,2782,2784,2786,2788,2790,2792,2794,2796,2798,2800,2802,2804,2806,2808,2810,2812,2814,2816,2818,2820,2822,2824,2826,2828,2830,2832,2834,2836,2838,2840,2842,2844,2846,2848,2850,2852,2854,2856,2858,2860,2862,2864,2866,2868,2870,2872,2874,2876,2878,2880,2882,2884,2886,2888,2890,2892,2894,2896,2898,2900,2902,2904,2906,2908,2910,2912,2914,2916,2918,2920,2922,2924,2926,2928,2930,2932,2934,2936,2938,2940,2942,2944,2946,2948,2950,2952,2954,2956,2958,2960,2962,2964,2966,2968,2970,2972,2974,2976,2978,2980,2982,2984,2986,2988,2990,2992,2994,2996,2998,3000\n"
     ]
    }
   ],
   "source": [
    "value = []\n",
    "for i in range(2000,3001):\n",
    "    if i%2 ==0:\n",
    "        value.append(str(i))\n",
    "print(','.join(value))\n",
    "        "
   ]
  },
  {
   "cell_type": "code",
   "execution_count": 5,
   "metadata": {},
   "outputs": [
    {
     "name": "stdout",
     "output_type": "stream",
     "text": [
      "2000,2002,2004,2006,2008,2020,2022,2024,2026,2028,2040,2042,2044,2046,2048,2060,2062,2064,2066,2068,2080,2082,2084,2086,2088,2200,2202,2204,2206,2208,2220,2222,2224,2226,2228,2240,2242,2244,2246,2248,2260,2262,2264,2266,2268,2280,2282,2284,2286,2288,2400,2402,2404,2406,2408,2420,2422,2424,2426,2428,2440,2442,2444,2446,2448,2460,2462,2464,2466,2468,2480,2482,2484,2486,2488,2600,2602,2604,2606,2608,2620,2622,2624,2626,2628,2640,2642,2644,2646,2648,2660,2662,2664,2666,2668,2680,2682,2684,2686,2688,2800,2802,2804,2806,2808,2820,2822,2824,2826,2828,2840,2842,2844,2846,2848,2860,2862,2864,2866,2868,2880,2882,2884,2886,2888\n"
     ]
    }
   ],
   "source": [
    "values = []\n",
    "for i in range(1000, 3001):\n",
    "    s = str(i)\n",
    "    if (int(s[0])%2==0) and (int(s[1])%2==0) and (int(s[2])%2==0) and (int(s[3])%2==0):\n",
    "        values.append(s)\n",
    "print (\",\".join(values))"
   ]
  },
  {
   "cell_type": "code",
   "execution_count": 15,
   "metadata": {},
   "outputs": [
    {
     "name": "stdout",
     "output_type": "stream",
     "text": [
      "nhap chuoi: le quang,. 123\n",
      "So chu so:  3\n",
      "So chu cai:  7\n"
     ]
    }
   ],
   "source": [
    "def tinhso_chu():\n",
    "    a = list(input('nhap chuoi: '))\n",
    "    b = 0\n",
    "    c = 0\n",
    "    for i in a:\n",
    "        if i.isdigit() == True:\n",
    "            b+= 1\n",
    "        elif i.islower() ==True or i.isupper() ==True:\n",
    "            c+= 1\n",
    "    print('So chu so: ',b)\n",
    "    print('So chu cai: ',c)\n",
    "tinhso_chu()"
   ]
  },
  {
   "cell_type": "code",
   "execution_count": 4,
   "metadata": {},
   "outputs": [
    {
     "name": "stdout",
     "output_type": "stream",
     "text": [
      "nhap chuoi: Le Quang Kien\n",
      "So chu cai viet thuong:  8\n",
      "So chu cai viet hoa:  3\n"
     ]
    }
   ],
   "source": [
    "# Viết một chương trình chấp nhận đầu vào là một câu, đếm chữ hoa, chữ thường.\n",
    "def tinhchu():\n",
    "    a = list(input('nhap chuoi: '))\n",
    "    b = 0\n",
    "    c = 0\n",
    "    for i in a:\n",
    "        if i.islower() == True:\n",
    "            b+= 1\n",
    "        elif i.isupper() == True:\n",
    "            c+= 1\n",
    "        pass\n",
    "    print('So chu cai viet thuong: ',b)\n",
    "    print('So chu cai viet hoa: ',c)\n",
    "tinhchu()"
   ]
  },
  {
   "cell_type": "code",
   "execution_count": 19,
   "metadata": {},
   "outputs": [
    {
     "name": "stdout",
     "output_type": "stream",
     "text": [
      "nhập a: 4\n",
      "4936\n"
     ]
    }
   ],
   "source": [
    "# Viết một chương trình tính giá trị của a+aa+aaa+aaaa với a là số được nhập vào bởi người dùng.\n",
    "a = input(\"nhập a: \")\n",
    "n1 = int(\"%s\" % a)\n",
    "n2 = int( \"%s%s\" % (a,a) )\n",
    "n3 = int( \"%s%s%s\" % (a,a,a) )\n",
    "n4 = int( \"%s%s%s%s\" % (a,a,a,a) )\n",
    "b = n1+n2+n3+n4\n",
    "print(b)\n"
   ]
  },
  {
   "cell_type": "code",
   "execution_count": 18,
   "metadata": {},
   "outputs": [
    {
     "name": "stdout",
     "output_type": "stream",
     "text": [
      "Nhập số a: 3\n",
      "Tổng cần tính là:  3702\n"
     ]
    }
   ],
   "source": [
    "a = input(\"Nhập số a: \")\n",
    "n1 = int( \"%s\" % a )\n",
    "n2 = int( \"%s%s\" % (a,a) )\n",
    "n3 = int( \"%s%s%s\" % (a,a,a) )\n",
    "n4 = int( \"%s%s%s%s\" % (a,a,a,a) )\n",
    "# Bài tập Python 18, Code by Quantrimang.com\n",
    "print (\"Tổng cần tính là: \",n1+n2+n3+n4)"
   ]
  },
  {
   "cell_type": "code",
   "execution_count": 5,
   "metadata": {},
   "outputs": [
    {
     "name": "stdout",
     "output_type": "stream",
     "text": [
      "nhap danh sach: 1,2,3,4,5,6\n",
      "1,3,5\n",
      "<class 'NoneType'>\n"
     ]
    }
   ],
   "source": [
    "# Sử dụng một danh sách để lọc các số lẻ từ danh sách được người dùng nhập vào.\n",
    "n = [x for x in (input('nhap danh sach: ').split(','))]\n",
    "value = []\n",
    "for a in n:\n",
    "    if int(a)%2 !=0:\n",
    "        value.append(a)\n",
    "print(','.join(value))"
   ]
  },
  {
   "cell_type": "code",
   "execution_count": 8,
   "metadata": {},
   "outputs": [
    {
     "name": "stdout",
     "output_type": "stream",
     "text": [
      "Nhập số tiền nhập vào, cách nhau bởi dấu phẩy nếu nhập nhiều lần: 100,200\n",
      "Nhập số tiền rút ra, cách nhau bởi dấu phẩy nếu rút nhiều lần: 300\n",
      "Số tiền còn lại:  0\n"
     ]
    }
   ],
   "source": [
    "# Viết chương trình tính số tiền thực của một tài khoản ngân hàng dựa trên nhật ký giao dịch được nhập vào từ giao diện điều khiển.\n",
    "# Định dạng nhật ký được hiển thị như sau:D 100, W 200, (D là tiền gửi, W là tiền rút ra).\n",
    "# Giả sử đầu vào được cung cấp là: D 300, D 300, W 200, D 100\n",
    "# Thì đầu ra sẽ là: 500\n",
    "# nhập số tiền rút hoặc gửi, định dạng rút và gửi, tính toán, đưa ra kết quả\n",
    "D = [x for x in input('Nhập số tiền nhập vào, cách nhau bởi dấu phẩy nếu nhập nhiều lần: ').split(',')]\n",
    "W = [x for x in input('Nhập số tiền rút ra, cách nhau bởi dấu phẩy nếu rút nhiều lần: ').split(',')]\n",
    "tongtiennhap = sum(int(d) for d in D )\n",
    "tongtienrutra = sum(int(w) for w in W )\n",
    "thangdutk = tongtiennhap - tongtienrutra\n",
    "print('Số tiền còn lại: ',thangdutk)"
   ]
  },
  {
   "cell_type": "code",
   "execution_count": 105,
   "metadata": {},
   "outputs": [
    {
     "name": "stdout",
     "output_type": "stream",
     "text": [
      "Nhập nhật ký giao dịch: D 200\n",
      "Nhập nhật ký giao dịch: W 300\n",
      "Nhập nhật ký giao dịch: D 200\n",
      "Nhập nhật ký giao dịch: W 0\n",
      "Nhập nhật ký giao dịch: \n",
      "100\n"
     ]
    }
   ],
   "source": [
    "import sys\n",
    "netAmount = 0\n",
    "while True:\n",
    "    s = input(\"Nhập nhật ký giao dịch: \")\n",
    "    if not s:\n",
    "        break\n",
    "    values = s.split(\" \")\n",
    "    operation = values[0]\n",
    "    amount = int(values[1])\n",
    "    if operation==\"D\":\n",
    "         netAmount+=amount\n",
    "    elif operation==\"W\":\n",
    "        netAmount-=amount\n",
    "    else:\n",
    "        pass\n",
    "print (netAmount)"
   ]
  },
  {
   "cell_type": "code",
   "execution_count": 54,
   "metadata": {},
   "outputs": [
    {
     "name": "stdout",
     "output_type": "stream",
     "text": [
      "Nhập mật khẩu của bạn: leKien@12\n",
      "Mật khẩu là:  leKien@12\n"
     ]
    }
   ],
   "source": [
    "# Một website yêu cầu người dùng nhập tên người dùng và mật khẩu để đăng ký. Viết chương trình để kiểm tra tính hợp lệ của mật khẩu mà người dùng nhập vào.\n",
    "# Các tiêu chí kiểm tra mật khẩu bao gồm:\n",
    "# (1. Ít nhất 1 chữ cái nằm trong [a-z]\n",
    "# 2. Ít nhất 1 số nằm trong [0-9]\n",
    "# 3. Ít nhất 1 kí tự nằm trong [A-Z]\n",
    "# 4. Ít nhất 1 ký tự nằm trong [$ # @]\n",
    "# 5. Độ dài mật khẩu tối thiểu: 6\n",
    "# 6. Độ dài mật khẩu tối đa: 12)\n",
    "# Chương trình phải chấp nhận một chuỗi mật khẩu phân tách nhau bởi dấu phẩy và kiểm tra xem chúng có đáp ứng những tiêu chí trên hay không. Mật khẩu hợp lệ sẽ được in, mỗi mật khẩu cách nhau bởi dấu phẩy.\n",
    "# Ví dụ mật khẩu nhập vào chương trình là: ABd1234@1,a F1#,2w3E*,2We3345\n",
    "# Thì đầu ra sẽ là: ABd1234@1\n",
    "# nhập chuỗi, phân tách, xét tất cả các điều kiện, đưa ra kết quả màn hình\n",
    "import re\n",
    "n = [x for x in input('Nhập mật khẩu của bạn: ').split(',')]\n",
    "value = []\n",
    "for m in n: \n",
    "    if len(m) <6 or len(m) >12:\n",
    "        continue\n",
    "    elif not re.search(\"[a-z]\",m):\n",
    "        continue \n",
    "    elif not re.search(\"[0-9]\",m):\n",
    "        continue\n",
    "    elif not re.search(\"[A-Z]\",m):\n",
    "        continue\n",
    "    elif not re.search(\"[$#@]\",m):\n",
    "        continue\n",
    "    else: value.append(m)\n",
    "a  = ','.join(value)\n",
    "print('Mật khẩu là: ',a)"
   ]
  },
  {
   "cell_type": "code",
   "execution_count": 56,
   "metadata": {},
   "outputs": [
    {
     "name": "stdout",
     "output_type": "stream",
     "text": [
      "Nhập mật khẩu: lekien@A1\n",
      "lekien@A1\n"
     ]
    }
   ],
   "source": [
    "import re\n",
    "value = []\n",
    "items=[x for x in input(\"Nhập mật khẩu: \").split(',')] \n",
    "for p in items:\n",
    "    if len(p)<6 or len(p)>12:\n",
    "        continue\n",
    "    else:\n",
    "        pass\n",
    "    if not re.search(\"[a-z]\",p):\n",
    "       continue\n",
    "    elif not re.search(\"[0-9]\",p):\n",
    "       continue\n",
    "    elif not re.search(\"[A-Z]\",p):\n",
    "       continue\n",
    "    elif not re.search(\"[$#@]\",p):\n",
    "       continue\n",
    "    elif re.search(\"\\s\",p):\n",
    "       continue\n",
    "    else:\n",
    "       pass\n",
    "    value.append(p)\n",
    "print (\",\".join(value))"
   ]
  },
  {
   "cell_type": "code",
   "execution_count": 6,
   "metadata": {},
   "outputs": [
    {
     "name": "stdout",
     "output_type": "stream",
     "text": [
      "Tim kiem thanh cong.\n"
     ]
    }
   ],
   "source": [
    "import re\n",
    " \n",
    "pattern = '^a...s$'\n",
    "test_string = 'abygs'\n",
    "result = re.match(pattern, test_string)\n",
    " \n",
    "if result:\n",
    "    print(\"Tim kiem thanh cong.\")\n",
    "else:\n",
    "    print(\"Tim kiem khong thanh cong.\")"
   ]
  },
  {
   "cell_type": "code",
   "execution_count": 8,
   "metadata": {},
   "outputs": [
    {
     "name": "stdout",
     "output_type": "stream",
     "text": [
      "None\n"
     ]
    }
   ],
   "source": [
    "import re\n",
    " \n",
    "pattern = '^a...s$'\n",
    "test_string = 'abys'\n",
    "result = re.match(pattern, test_string)\n"
   ]
  },
  {
   "cell_type": "code",
   "execution_count": 50,
   "metadata": {},
   "outputs": [
    {
     "name": "stdout",
     "output_type": "stream",
     "text": [
      "902 34\n"
     ]
    },
    {
     "data": {
      "text/plain": [
       "'2102112, 3902 346'"
      ]
     },
     "execution_count": 50,
     "metadata": {},
     "output_type": "execute_result"
    }
   ],
   "source": [
    "import re\n",
    " \n",
    "string = '2102112, 3902 346'\n",
    "pattern = '(\\d{3}) (\\d{2})'\n",
    "match = re.search(pattern, string)\n",
    "if match:\n",
    "    print(match.group())\n",
    "else:\n",
    "    print(\"Không khớp\") \n",
    "match.string"
   ]
  },
  {
   "cell_type": "code",
   "execution_count": 4,
   "metadata": {},
   "outputs": [
    {
     "name": "stdout",
     "output_type": "stream",
     "text": [
      "Tom,19,80\n",
      "John,20,90\n",
      "\n",
      "(['John', '20', '90'], ['Tom', '19', '80'])\n"
     ]
    }
   ],
   "source": [
    "# Viết chương trình sắp xếp tuple (name, age, score) theo thứ tự tăng dần, name là string, age và score là number. Tuple được nhập vào bởi người dùng. Tiêu chí sắp xếp là:\n",
    "# Sắp xếp theo name sau đó sắp xếp theo age, sau đó sắp xếp theo score. Ưu tiên là tên > tuổi > điểm.\n",
    "# Nếu đầu vào là:\n",
    "# Tom,19,80\n",
    "# John,20,90\n",
    "# Jony,17,91\n",
    "# Jony,17,93\n",
    "# Json,21,85\n",
    "# Thì đầu ra sẽ là:\n",
    "# [('John', '20', '90'), ('Jony', '17', '91'), ('Jony', '17', '93'), ('Json', '21', '85'), ('Tom', '19', '80')]\n",
    "# nhap, tach thành tuple, so sánh và sắp xếp, xuât ra\n",
    "value = []\n",
    "while True:\n",
    "    s= input()\n",
    "    if not s:\n",
    "        break\n",
    "    n = s.split(',')\n",
    "    value.append(n)\n",
    "l = tuple(sorted(value,key = lambda a: (a[0],a[1],a[2])))\n",
    "print(l)"
   ]
  },
  {
   "cell_type": "code",
   "execution_count": 9,
   "metadata": {},
   "outputs": [
    {
     "name": "stdout",
     "output_type": "stream",
     "text": [
      "<class 'filter'>\n"
     ]
    }
   ],
   "source": [
    "list_goc = [10, 9, 8, 7, 6, 1, 2, 3, 4, 5]\n",
    "\n",
    "list_moi = filter(lambda a: (a%2 == 0) , list_goc)\n",
    "print(type(list_moi))"
   ]
  },
  {
   "cell_type": "code",
   "execution_count": 20,
   "metadata": {},
   "outputs": [
    {
     "name": "stdout",
     "output_type": "stream",
     "text": [
      "Nhap chuoi: kien,12,3 le,12,14\n",
      "['kien,12,3', 'le,12,14']\n"
     ]
    }
   ],
   "source": [
    "n = input('Nhap chuoi: ').split(' ')\n",
    "print(n)"
   ]
  },
  {
   "cell_type": "code",
   "execution_count": 22,
   "metadata": {},
   "outputs": [
    {
     "name": "stdout",
     "output_type": "stream",
     "text": [
      "Tom,19,80\n",
      "John,20,90\n",
      "Jony,17,91\n",
      "Jony,17,93\n",
      "Json,21,85\n",
      "\n",
      "[('John', '20', '90'), ('Jony', '17', '91'), ('Jony', '17', '93'), ('Json', '21', '85'), ('Tom', '19', '80')]\n"
     ]
    }
   ],
   "source": [
    "from operator import itemgetter, attrgetter\n",
    "l = []\n",
    "while True:\n",
    "    s = input()\n",
    "    if not s:\n",
    "        break\n",
    "    l.append(tuple(s.split(\",\")))\n",
    "\n",
    "print (sorted(l, key=itemgetter(0,1,2)))"
   ]
  },
  {
   "cell_type": "code",
   "execution_count": 13,
   "metadata": {},
   "outputs": [
    {
     "name": "stdout",
     "output_type": "stream",
     "text": [
      "4\n"
     ]
    }
   ],
   "source": [
    "a=4\n",
    "b=0\n",
    "b+=a\n",
    "print(b)"
   ]
  },
  {
   "cell_type": "code",
   "execution_count": 16,
   "metadata": {},
   "outputs": [
    {
     "name": "stdout",
     "output_type": "stream",
     "text": [
      "Doan text nay duoc in dau tien\n",
      "Doan text nay duoc in thu hai\n"
     ]
    },
    {
     "ename": "StopIteration",
     "evalue": "2",
     "output_type": "error",
     "traceback": [
      "\u001b[1;31m---------------------------------------------------------------------------\u001b[0m",
      "\u001b[1;31mStopIteration\u001b[0m                             Traceback (most recent call last)",
      "\u001b[1;32m<ipython-input-16-c813d2c2d02f>\u001b[0m in \u001b[0;36m<module>\u001b[1;34m\u001b[0m\n\u001b[0;32m     15\u001b[0m \u001b[0ma\u001b[0m \u001b[1;33m=\u001b[0m \u001b[0mmy_gen\u001b[0m\u001b[1;33m(\u001b[0m\u001b[1;33m)\u001b[0m\u001b[1;33m\u001b[0m\u001b[1;33m\u001b[0m\u001b[0m\n\u001b[0;32m     16\u001b[0m \u001b[0mnext\u001b[0m\u001b[1;33m(\u001b[0m\u001b[0ma\u001b[0m\u001b[1;33m)\u001b[0m\u001b[1;33m\u001b[0m\u001b[1;33m\u001b[0m\u001b[0m\n\u001b[1;32m---> 17\u001b[1;33m \u001b[0mnext\u001b[0m\u001b[1;33m(\u001b[0m\u001b[0ma\u001b[0m\u001b[1;33m)\u001b[0m\u001b[1;33m\u001b[0m\u001b[1;33m\u001b[0m\u001b[0m\n\u001b[0m",
      "\u001b[1;31mStopIteration\u001b[0m: 2"
     ]
    }
   ],
   "source": [
    "# Xác định một class với generator có thể lặp lại các số nằm trong khoảng 0 và n, và chia hết cho 7.\n",
    "def my_gen():\n",
    "    n = 1\n",
    "    print('Doan text nay duoc in dau tien')\n",
    "     # Hàm Generator chứa các câu lệnh yield \n",
    "    yield n\n",
    " \n",
    "    n += 1\n",
    "    print('Doan text nay duoc in thu hai')\n",
    "    return n\n",
    " \n",
    "    n += 1\n",
    "    print('Doan text nay duoc in cuoi cung')\n",
    "    return n\n",
    "a = my_gen()\n",
    "next(a)\n",
    "next(a)"
   ]
  },
  {
   "cell_type": "code",
   "execution_count": 17,
   "metadata": {},
   "outputs": [
    {
     "name": "stdout",
     "output_type": "stream",
     "text": [
      "Doan text nay duoc in dau tien\n",
      "1\n",
      "Doan text nay duoc in thu hai\n",
      "2\n",
      "Doan text nay duoc in cuoi cung\n",
      "3\n"
     ]
    }
   ],
   "source": [
    "def my_gen():\n",
    "    n = 1\n",
    "    print('Doan text nay duoc in dau tien')\n",
    "     # Hàm Generator chứa câu lệnh yield \n",
    "    yield n\n",
    " \n",
    "    n += 1\n",
    "    print('Doan text nay duoc in thu hai')\n",
    "    yield n\n",
    " \n",
    "    n += 1\n",
    "    print('Doan text nay duoc in cuoi cung')\n",
    "    yield n\n",
    " \n",
    " # Sử dụng vòng lặp for \n",
    "for item in my_gen():\n",
    "    print(item)   "
   ]
  },
  {
   "cell_type": "code",
   "execution_count": 44,
   "metadata": {},
   "outputs": [
    {
     "data": {
      "text/plain": [
       "4"
      ]
     },
     "execution_count": 44,
     "metadata": {},
     "output_type": "execute_result"
    }
   ],
   "source": [
    "class PowTwo:\n",
    "    def __init__(self, max = 0):\n",
    "        self.max = max\n",
    "    def __iter__(self):\n",
    "        self.n = 0\n",
    "        return self\n",
    "    def __next__(self):\n",
    "        if self.n > self.max:\n",
    "            raise StopIteration\n",
    "        result = 2 ** self.n\n",
    "        self.n += 1\n",
    "        return result\n",
    "a = PowTwo(2)\n",
    "a.__iter__()\n",
    "a.__next__()\n",
    "a.__next__()\n",
    "a.__next__()"
   ]
  },
  {
   "cell_type": "code",
   "execution_count": 51,
   "metadata": {},
   "outputs": [
    {
     "data": {
      "text/plain": [
       "4"
      ]
     },
     "execution_count": 51,
     "metadata": {},
     "output_type": "execute_result"
    }
   ],
   "source": [
    "def PowTwoGen(max = 0):\n",
    "    n = 0\n",
    "    while n <= max:\n",
    "        yield 2 ** n\n",
    "        n += 1\n",
    "a = PowTwoGen(2)\n",
    "next(a)\n",
    "next(a)\n",
    "next(a)"
   ]
  },
  {
   "cell_type": "code",
   "execution_count": 53,
   "metadata": {},
   "outputs": [
    {
     "data": {
      "text/plain": [
       "30"
      ]
     },
     "execution_count": 53,
     "metadata": {},
     "output_type": "execute_result"
    }
   ],
   "source": [
    "def all_even():\n",
    "    n = 0\n",
    "    while True:\n",
    "        yield n\n",
    "        n += 2\n",
    "a = all_even()\n",
    "next(a)\n",
    "next(a)\n",
    "next(a)\n",
    "next(a)\n",
    "next(a)\n",
    "next(a)\n",
    "next(a)\n",
    "next(a)\n",
    "next(a)\n",
    "next(a)\n",
    "next(a)\n",
    "next(a)\n",
    "next(a)\n",
    "next(a)\n",
    "next(a)\n",
    "next(a)"
   ]
  },
  {
   "cell_type": "code",
   "execution_count": 93,
   "metadata": {},
   "outputs": [
    {
     "name": "stdout",
     "output_type": "stream",
     "text": [
      "Nhập số n: 10\n"
     ]
    }
   ],
   "source": [
    "# Xác định một class với generator có thể lặp lại các số nằm trong khoảng 0 và n, và chia hết cho 7.\n",
    "class kien:\n",
    "    def __init__(self):\n",
    "        self.n = int(input('Nhập số n: '))\n",
    "    def chiahet7(self):\n",
    "        for i in range(self.n+1):\n",
    "            if i%7 == 0:\n",
    "                yield i\n",
    "a =kien()\n",
    "for x in a.chiahet7():\n",
    "    print(x)"
   ]
  },
  {
   "cell_type": "code",
   "execution_count": 111,
   "metadata": {},
   "outputs": [
    {
     "name": "stdout",
     "output_type": "stream",
     "text": [
      "Nhập bước di chuyển:D 1\n",
      "Nhập bước di chuyển:U 4\n",
      "Nhập bước di chuyển:L 5\n",
      "Nhập bước di chuyển:R 1\n",
      "Nhập bước di chuyển:\n",
      "Khoảng cách đã duy chuyển là: 5\n"
     ]
    }
   ],
   "source": [
    "# Một Robot di chuyển trong mặt phẳng bắt đầu từ điểm đầu tiên (0,0). \n",
    "# Robot có thể di chuyển theo hướng UP, DOWN, LEFT và RIGHT với những bước nhất định.\n",
    "#Dấu di chuyển của robot được đánh hiển thị như sau:\n",
    "#UP 5, DOWN 3, LEFT 3, RIGHT 3\n",
    "#Các con số sau phía sau hướng di chuyển chính là số bước đi. \n",
    "# Hãy viết chương trình để tính toán khoảng cách từ vị trí hiện tại đến vị trí đầu tiên, \n",
    "# sau khi robot đã di chuyển một quãng đường.Nếu khoảng cách là một số thập phân chỉ cần in só nguyên gần nhất.\n",
    "import sys\n",
    "import math\n",
    "doc = 0\n",
    "ngang = 0\n",
    "a = 0\n",
    "while True:\n",
    "    s = input('Nhập bước di chuyển:')\n",
    "    if not s: \n",
    "        break\n",
    "    n = s.split(' ')\n",
    "    huong_di = n[0]\n",
    "    buoc_di = int(n[1])\n",
    "    if huong_di =='U': \n",
    "        doc += buoc_di\n",
    "    if huong_di =='D':\n",
    "        doc -= buoc_di\n",
    "    if huong_di =='L':\n",
    "        ngang += buoc_di\n",
    "    if huong_di =='R':\n",
    "        ngang -= buoc_di\n",
    "    a =  int(math.sqrt((doc)**2 + (ngang)**2))\n",
    "print('Khoảng cách đã duy chuyển là:',a)"
   ]
  },
  {
   "cell_type": "code",
   "execution_count": 101,
   "metadata": {},
   "outputs": [
    {
     "name": "stdout",
     "output_type": "stream",
     "text": [
      "Giá trị tuyệt đối của  -10 là:  10\n"
     ]
    }
   ],
   "source": [
    "a = -10\n",
    "print('Giá trị tuyệt đối của ',a, 'là: ', abs(a))"
   ]
  },
  {
   "cell_type": "code",
   "execution_count": 112,
   "metadata": {},
   "outputs": [
    {
     "name": "stdout",
     "output_type": "stream",
     "text": [
      "\n",
      "0\n"
     ]
    }
   ],
   "source": [
    "import math\n",
    "pos = [0,0]\n",
    "while True:\n",
    "    s = input()\n",
    "    if not s:\n",
    "        break\n",
    "    movement = s.split(\" \")\n",
    "    direction = movement[0]\n",
    "    steps = int(movement[1])\n",
    "    if direction==\"UP\":\n",
    "        pos[0]+=steps\n",
    "    elif direction==\"DOWN\":\n",
    "        pos[0]-=steps\n",
    "    elif direction==\"LEFT\":\n",
    "        pos[1]-=steps\n",
    "    elif direction==\"RIGHT\":\n",
    "        pos[1]+=steps\n",
    "    else:\n",
    "        pass\n",
    "print (int(round(math.sqrt(pos[1]**2+pos[0]**2))))"
   ]
  },
  {
   "cell_type": "code",
   "execution_count": 8,
   "metadata": {},
   "outputs": [
    {
     "name": "stdout",
     "output_type": "stream",
     "text": [
      "4\n"
     ]
    },
    {
     "data": {
      "text/plain": [
       "2"
      ]
     },
     "execution_count": 8,
     "metadata": {},
     "output_type": "execute_result"
    }
   ],
   "source": [
    "def inc(x):\n",
    "    return x + 1\n",
    "def dec(x):\n",
    "    return x - 1\n",
    " \n",
    "def operate(func, x):\n",
    "    result = func(x)\n",
    "    return result\n",
    "print(operate(inc,3))\n",
    "operate(dec,3)\n"
   ]
  },
  {
   "cell_type": "code",
   "execution_count": 22,
   "metadata": {},
   "outputs": [
    {
     "name": "stdout",
     "output_type": "stream",
     "text": [
      "I am going to divide 2 and 5\n",
      "0.4\n",
      "I am going to divide 2 and 0\n",
      "Whoops! cannot divide\n"
     ]
    }
   ],
   "source": [
    "def smart_divide(func):\n",
    "    def inner(a,b):\n",
    "        print(\"I am going to divide\",a,\"and\",b)\n",
    "        if b == 0:\n",
    "            print(\"Whoops! cannot divide\")\n",
    "            return\n",
    "        return func(a,b)\n",
    "    return inner\n",
    " \n",
    "@smart_divide\n",
    "def divide(a,b):\n",
    "    return a/b\n",
    "divide(2,5)\n",
    "divide(2,0)"
   ]
  },
  {
   "cell_type": "code",
   "execution_count": 2,
   "metadata": {},
   "outputs": [
    {
     "name": "stdout",
     "output_type": "stream",
     "text": [
      "nhap chuoi: le_kien 12\n",
      "So chu so:  2\n",
      "So chu cai:  6\n"
     ]
    }
   ],
   "source": [
    "def tinhso_chu():\n",
    "    a = list(input('nhap chuoi: '))\n",
    "    b = 0\n",
    "    c = 0\n",
    "    for i in a:\n",
    "        if str(i).isdigit() == True:\n",
    "            b+= 1\n",
    "        elif str(i).islower() ==True or str(i).isupper() ==True:\n",
    "            c+= 1\n",
    "    print('So chu so: ',b)\n",
    "    print('So chu cai: ',c)\n",
    "tinhso_chu()"
   ]
  },
  {
   "cell_type": "code",
   "execution_count": 50,
   "metadata": {},
   "outputs": [
    {
     "name": "stdout",
     "output_type": "stream",
     "text": [
      "nhập chuỗi: New to Python or choosing between Python 2 and Python 3? Read Python 2 or Python 3\n",
      "2 2\n",
      "3 1\n",
      "3? 1\n",
      "New 1\n",
      "Python 5\n",
      "Read 1\n",
      "and 1\n",
      "between 1\n",
      "choosing 1\n",
      "or 2\n",
      "to 1\n"
     ]
    }
   ],
   "source": [
    "# Viết chương trình tính tần suất các từ từ input. Output được xuất ra sau khi đã sắp xếp theo bảng chữ cái.\n",
    "# Giả sử input là: New to Python or choosing between Python 2 and Python 3? Read Python 2 or Python 3.\n",
    "string = input('nhập chuỗi: ').split(' ')\n",
    "count={}\n",
    "for i in string:\n",
    "    if i in count:\n",
    "        count[i] +=1\n",
    "    else:\n",
    "        count[i] = 1\n",
    "        \n",
    "for x in sorted(count.keys()):\n",
    "    print(x,count[x])"
   ]
  },
  {
   "cell_type": "code",
   "execution_count": 10,
   "metadata": {},
   "outputs": [
    {
     "name": "stdout",
     "output_type": "stream",
     "text": [
      "le \n",
      "le:1\n"
     ]
    }
   ],
   "source": [
    "freq = {} # frequency of words in text\n",
    "line = input()\n",
    "for i in line.split():\n",
    "    freq[i] = freq.get(i,0)+1\n",
    "w = sorted(freq.keys())\n",
    "\n",
    "for x in w:\n",
    "    print (\"%s:%d\" % (x,freq[x]))"
   ]
  },
  {
   "cell_type": "code",
   "execution_count": 17,
   "metadata": {},
   "outputs": [
    {
     "name": "stdout",
     "output_type": "stream",
     "text": [
      "số gà là: 23\n",
      "số thỏ là:  12\n"
     ]
    }
   ],
   "source": [
    "# Viết chương trình để giải 1 câu đố cổ của Trung Quốc: \n",
    "# Một trang trại thỏ và gà có 35 đầu, 94 chân, hỏi số thỏ và gà là bao nhiêu?\n",
    "for a in range(35):\n",
    "    b = 35-a\n",
    "    if 2*a + 4*b ==94:\n",
    "        print('số gà là:',a)\n",
    "        print('số thỏ là: ',b)\n",
    "        \n"
   ]
  },
  {
   "cell_type": "code",
   "execution_count": 26,
   "metadata": {},
   "outputs": [
    {
     "name": "stdout",
     "output_type": "stream",
     "text": [
      "(23, 12)\n"
     ]
    }
   ],
   "source": [
    "def giai(dau,chan):\n",
    "    klg = 'Không có đáp án đúng'\n",
    "    for i in range(dau+1):\n",
    "        j=dau-i\n",
    "        if 2*i+4*j==chan:\n",
    "            return (i,j)\n",
    "    return klg\n",
    "dau=35\n",
    "chan=94\n",
    "dap_an=giai(dau,chan)\n",
    "print (dap_an)"
   ]
  },
  {
   "cell_type": "code",
   "execution_count": 51,
   "metadata": {},
   "outputs": [
    {
     "data": {
      "text/html": [
       "<div>\n",
       "<style scoped>\n",
       "    .dataframe tbody tr th:only-of-type {\n",
       "        vertical-align: middle;\n",
       "    }\n",
       "\n",
       "    .dataframe tbody tr th {\n",
       "        vertical-align: top;\n",
       "    }\n",
       "\n",
       "    .dataframe thead th {\n",
       "        text-align: right;\n",
       "    }\n",
       "</style>\n",
       "<table border=\"1\" class=\"dataframe\">\n",
       "  <thead>\n",
       "    <tr style=\"text-align: right;\">\n",
       "      <th></th>\n",
       "      <th>0</th>\n",
       "    </tr>\n",
       "  </thead>\n",
       "  <tbody>\n",
       "    <tr>\n",
       "      <th>a</th>\n",
       "      <td>1</td>\n",
       "    </tr>\n",
       "    <tr>\n",
       "      <th>c</th>\n",
       "      <td>3</td>\n",
       "    </tr>\n",
       "    <tr>\n",
       "      <th>c</th>\n",
       "      <td>6</td>\n",
       "    </tr>\n",
       "    <tr>\n",
       "      <th>a</th>\n",
       "      <td>10</td>\n",
       "    </tr>\n",
       "    <tr>\n",
       "      <th>d</th>\n",
       "      <td>15</td>\n",
       "    </tr>\n",
       "    <tr>\n",
       "      <th>s</th>\n",
       "      <td>21</td>\n",
       "    </tr>\n",
       "    <tr>\n",
       "      <th>v</th>\n",
       "      <td>28</td>\n",
       "    </tr>\n",
       "  </tbody>\n",
       "</table>\n",
       "</div>"
      ],
      "text/plain": [
       "    0\n",
       "a   1\n",
       "c   3\n",
       "c   6\n",
       "a  10\n",
       "d  15\n",
       "s  21\n",
       "v  28"
      ]
     },
     "execution_count": 51,
     "metadata": {},
     "output_type": "execute_result"
    }
   ],
   "source": [
    "import pandas as pd\n",
    "import numpy as np\n",
    "df = pd.DataFrame({'A':[1,2,3,4,5,6,7,8],\n",
    "                  'B':[2,3,4,5,6,7,8,9]}, index = ['a','a','a','b','b','c','c','d'])\n",
    "df2 = []\n",
    "s=0\n",
    "for i in df['A'][:'c']:\n",
    "    s += i \n",
    "    df2.append(s)\n",
    "df1 = pd.DataFrame(df2, index = ['a','c','c','a','d','s','v'])\n",
    "df1"
   ]
  },
  {
   "cell_type": "code",
   "execution_count": 29,
   "metadata": {},
   "outputs": [
    {
     "data": {
      "text/plain": [
       "21"
      ]
     },
     "execution_count": 29,
     "metadata": {},
     "output_type": "execute_result"
    }
   ],
   "source": [
    "list = [1,2,3,4,5,6]\n",
    "sum(list)"
   ]
  },
  {
   "cell_type": "code",
   "execution_count": 1,
   "metadata": {},
   "outputs": [
    {
     "name": "stdout",
     "output_type": "stream",
     "text": [
      "Porsche là Ô tô.\n",
      "Toyota là Ô tô.\n",
      "Lamborghini cũng là Ô tô.\n",
      "Xe Toyota có màu Đỏ. Điện là nguyên liệu vận hành.\n",
      "Xe Lamborghini có màu Vàng. Deisel là nguyên liệu vận hành.\n",
      "Xe Porsche có màu Xanh. Gas là nguyên liệu vận hành.\n"
     ]
    }
   ],
   "source": [
    "class Car:\n",
    "\n",
    "     # thuộc tính lớp\n",
    "    loaixe = \"Ô tô\"\n",
    "\n",
    "     # thuộc tính đối tượng\n",
    "    def __init__(self, tenxe, mausac, nguyenlieu):\n",
    "        self.tenxe = tenxe\n",
    "        self.mausac = mausac\n",
    "        self.nguyenlieu = nguyenlieu\n",
    "\n",
    "# instantiate the Car class\n",
    "toyota = Car(\"Toyota\", \"Đỏ\", \"Điện\")\n",
    "lamborghini = Car(\"Lamborghini\", \"Vàng\", \"Deisel\")\n",
    "porsche = Car(\"Porsche\", \"Xanh\", \"Gas\")\n",
    "\n",
    "# access the class attributes\n",
    "print(\"Porsche là {}.\".format(porsche.__class__.loaixe))\n",
    "print(\"Toyota là {}.\".format(toyota.__class__.loaixe))\n",
    "print(\"Lamborghini cũng là {}.\".format(lamborghini.__class__.loaixe))\n",
    "\n",
    "# access the instance attributes\n",
    "print(\"Xe {} có màu {}. {} là nguyên liệu vận hành.\".format( toyota.tenxe, toyota.mausac, toyota.nguyenlieu))\n",
    "print(\"Xe {} có màu {}. {} là nguyên liệu vận hành.\".format( lamborghini.tenxe, lamborghini.mausac,lamborghini.nguyenlieu))\n",
    "print(\"Xe {} có màu {}. {} là nguyên liệu vận hành.\".format( porsche.tenxe, porsche.mausac, porsche.nguyenlieu))"
   ]
  },
  {
   "cell_type": "code",
   "execution_count": 27,
   "metadata": {},
   "outputs": [
    {
     "name": "stdout",
     "output_type": "stream",
     "text": [
      "abcdgh\n"
     ]
    },
    {
     "data": {
      "text/plain": [
       "'ABCDGH'"
      ]
     },
     "execution_count": 27,
     "metadata": {},
     "output_type": "execute_result"
    }
   ],
   "source": [
    "class Kien_anh:\n",
    "    def getString(nhapvao):\n",
    "        nhapvao = input()\n",
    "        return nhapvao.upper()  \n",
    "wth = Kien_anh()\n",
    "wth.getString()"
   ]
  },
  {
   "cell_type": "code",
   "execution_count": 47,
   "metadata": {},
   "outputs": [
    {
     "name": "stdout",
     "output_type": "stream",
     "text": [
      "2+3j\n"
     ]
    }
   ],
   "source": [
    "class SoPhuc:\n",
    "    def __init__(self,r = 0,i = 0):\n",
    "        self.phanthuc = r\n",
    "        self.phanao = i\n",
    "    def getData(self):\n",
    "        print(\"{}+{}j\".format(self.phanthuc,self.phanao))\n",
    "wth = SoPhuc(2,3)\n",
    "# wth.getData()\n",
    "# wth.new = 100\n",
    "c2 = SoPhuc(1,2)\n",
    "# c2.getData()\n",
    "del c2.phanthuc\n",
    "# del SoPhuc.getData\n",
    "wth.getData()"
   ]
  },
  {
   "cell_type": "code",
   "execution_count": 4,
   "metadata": {},
   "outputs": [
    {
     "name": "stdout",
     "output_type": "stream",
     "text": [
      "Hello the world\n",
      "Name: Kien, Age: 25, Male: male\n",
      "Hi\n"
     ]
    },
    {
     "data": {
      "text/plain": [
       "'HI'"
      ]
     },
     "execution_count": 4,
     "metadata": {},
     "output_type": "execute_result"
    }
   ],
   "source": [
    "class choi:\n",
    "    def __init__(self,name,age,male):\n",
    "        print('Hello the world')\n",
    "        print(\"Name: %s, Age: %d, Male: %s\" %(name,age,male))\n",
    "    def upperString(nhapvao):\n",
    "        nhapvao = input()\n",
    "        return nhapvao.upper()\n",
    "choi1 = choi('Kien',25,'male')\n",
    "choi1.upperString()"
   ]
  },
  {
   "cell_type": "code",
   "execution_count": 23,
   "metadata": {},
   "outputs": [
    {
     "name": "stdout",
     "output_type": "stream",
     "text": [
      "class Person da duoc tao\n",
      "class Person da bi huy\n",
      "Name: Kien\n"
     ]
    }
   ],
   "source": [
    "class Person:\n",
    "    def __init__(self,name,age,male):\n",
    "        self.name,self.age,self.male = name,age,male\n",
    "        print(\"class Person da duoc tao\")\n",
    "    def getname(self):\n",
    "        print(\"Name: %s\" %(self.name))\n",
    "    def getage(self):\n",
    "        print(\"Age: %d\" %(self.age))\n",
    "    def getmale(self):\n",
    "        print(\"Male: %d\" %(self.male))\n",
    "    def __del__(self):\n",
    "        print(\"class Person da bi huy\")\n",
    "        del self.name,self.age,self.male\n",
    "c1 = Person('Kien',20,1)\n",
    "c1.getname()"
   ]
  },
  {
   "cell_type": "code",
   "execution_count": 10,
   "metadata": {},
   "outputs": [
    {
     "name": "stdout",
     "output_type": "stream",
     "text": [
      "Function to douple    what the hell\n"
     ]
    }
   ],
   "source": [
    "def double(num):\n",
    "    '''Function to douple\\\n",
    "    what the hell'''\n",
    "    return num\n",
    "print(double.__doc__)"
   ]
  },
  {
   "cell_type": "code",
   "execution_count": 12,
   "metadata": {},
   "outputs": [
    {
     "name": "stdout",
     "output_type": "stream",
     "text": [
      "nhap vao so a :1\n",
      "Nhap vao so b :2\n",
      "Tong a+b :  3\n"
     ]
    }
   ],
   "source": [
    "def sum1so():\n",
    "    \"\"\"Ham nay dung de tinh tong \\\n",
    "    2 so nhap vao cua nguoi dung\"\"\"\n",
    "    a = int(input(\"nhap vao so a :\"))\n",
    "    b = int(input(\"Nhap vao so b :\"))\n",
    "    tong =  a+b\n",
    "    print('Tong a+b : ',tong)\n",
    "sum1so()"
   ]
  },
  {
   "cell_type": "code",
   "execution_count": 18,
   "metadata": {},
   "outputs": [
    {
     "name": "stdout",
     "output_type": "stream",
     "text": [
      "Xin chào Kien, Hello the world\n",
      "Hàm Xin_chao chào một người\n",
      "    với thông điệp cho trước \n"
     ]
    }
   ],
   "source": [
    "def Xin_chao(ten,loi_chao):\n",
    "    \"\"\"Hàm Xin_chao chào một người\n",
    "    với thông điệp cho trước \"\"\"\n",
    "    print(\"Xin chào\",ten + ', ' + loi_chao)\n",
    "a = Xin_chao('Kien',\"Hello the world\")\n",
    "print(Xin_chao.__doc__)"
   ]
  },
  {
   "cell_type": "code",
   "execution_count": 32,
   "metadata": {},
   "outputs": [
    {
     "name": "stdout",
     "output_type": "stream",
     "text": [
      "Xin chao Kien\n",
      "Xin chao Phuong Anh\n"
     ]
    }
   ],
   "source": [
    "def Xin_chao(*ten):\n",
    "    '''Ham nay der test tham so tuy bien'''\n",
    "    for i in ten:\n",
    "        print(\"Xin chao %s\" %(i))\n",
    "Xin_chao(\"Kien\",\"Phuong Anh\")"
   ]
  },
  {
   "cell_type": "code",
   "execution_count": 47,
   "metadata": {},
   "outputs": [
    {
     "name": "stdout",
     "output_type": "stream",
     "text": [
      "Bien nonlocal: 5\n",
      "bien local: 10\n"
     ]
    }
   ],
   "source": [
    "def vidu():\n",
    "    x = 5\n",
    "    print(\"Bien nonlocal: %d\" %(x))\n",
    "    def hamtrong():\n",
    "        nonlocal x\n",
    "        x = 10\n",
    "        print(\"bien local: %d\" %(x))\n",
    "    hamtrong()\n",
    "vidu()"
   ]
  },
  {
   "cell_type": "code",
   "execution_count": 46,
   "metadata": {},
   "outputs": [
    {
     "name": "stdout",
     "output_type": "stream",
     "text": [
      "Bên trong: Biến nonlocal\n",
      "Ben ngoai Biến nonlocal\n"
     ]
    }
   ],
   "source": [
    "def ham_ngoai():\n",
    "    x = \"Biến cục bộ\"\n",
    "    def ham_trong():\n",
    "        nonlocal x\n",
    "        x = \"Biến nonlocal\"\n",
    "        print(\"Bên trong:\", x)\n",
    "    ham_trong()\n",
    "    print(\"Ben ngoai\",x)\n",
    "ham_ngoai()"
   ]
  },
  {
   "cell_type": "code",
   "execution_count": 49,
   "metadata": {},
   "outputs": [
    {
     "name": "stdout",
     "output_type": "stream",
     "text": [
      "Trước khi gọi ham2:  25\n",
      "Đang gọi ham2\n",
      "Sau khi gọi ham2:  20\n",
      "25\n"
     ]
    }
   ],
   "source": [
    "def ham1():\n",
    "    x = 20\n",
    "    def ham2():\n",
    "        global x\n",
    "        x = 25\n",
    "        print(\"Trước khi gọi ham2: \", x)\n",
    "        print(\"Đang gọi ham2\")\n",
    "    ham2()\n",
    "    print(\"Sau khi gọi ham2: \", x)\n",
    "\n",
    "ham1()\n",
    "print(x)"
   ]
  },
  {
   "cell_type": "code",
   "execution_count": 56,
   "metadata": {},
   "outputs": [
    {
     "data": {
      "text/plain": [
       "['BooleanDtype',\n",
       " 'Categorical',\n",
       " 'CategoricalDtype',\n",
       " 'CategoricalIndex',\n",
       " 'DataFrame',\n",
       " 'DateOffset',\n",
       " 'DatetimeIndex',\n",
       " 'DatetimeTZDtype',\n",
       " 'ExcelFile',\n",
       " 'ExcelWriter',\n",
       " 'Float64Index',\n",
       " 'Grouper',\n",
       " 'HDFStore',\n",
       " 'Index',\n",
       " 'IndexSlice',\n",
       " 'Int16Dtype',\n",
       " 'Int32Dtype',\n",
       " 'Int64Dtype',\n",
       " 'Int64Index',\n",
       " 'Int8Dtype',\n",
       " 'Interval',\n",
       " 'IntervalDtype',\n",
       " 'IntervalIndex',\n",
       " 'MultiIndex',\n",
       " 'NA',\n",
       " 'NaT',\n",
       " 'NamedAgg',\n",
       " 'Period',\n",
       " 'PeriodDtype',\n",
       " 'PeriodIndex',\n",
       " 'RangeIndex',\n",
       " 'Series',\n",
       " 'SparseDtype',\n",
       " 'StringDtype',\n",
       " 'Timedelta',\n",
       " 'TimedeltaIndex',\n",
       " 'Timestamp',\n",
       " 'UInt16Dtype',\n",
       " 'UInt32Dtype',\n",
       " 'UInt64Dtype',\n",
       " 'UInt64Index',\n",
       " 'UInt8Dtype',\n",
       " '__builtins__',\n",
       " '__cached__',\n",
       " '__doc__',\n",
       " '__docformat__',\n",
       " '__file__',\n",
       " '__getattr__',\n",
       " '__git_version__',\n",
       " '__loader__',\n",
       " '__name__',\n",
       " '__package__',\n",
       " '__path__',\n",
       " '__spec__',\n",
       " '__version__',\n",
       " '_config',\n",
       " '_hashtable',\n",
       " '_lib',\n",
       " '_libs',\n",
       " '_np_version_under1p14',\n",
       " '_np_version_under1p15',\n",
       " '_np_version_under1p16',\n",
       " '_np_version_under1p17',\n",
       " '_np_version_under1p18',\n",
       " '_testing',\n",
       " '_tslib',\n",
       " '_typing',\n",
       " '_version',\n",
       " 'api',\n",
       " 'array',\n",
       " 'arrays',\n",
       " 'bdate_range',\n",
       " 'compat',\n",
       " 'concat',\n",
       " 'core',\n",
       " 'crosstab',\n",
       " 'cut',\n",
       " 'date_range',\n",
       " 'describe_option',\n",
       " 'errors',\n",
       " 'eval',\n",
       " 'factorize',\n",
       " 'get_dummies',\n",
       " 'get_option',\n",
       " 'infer_freq',\n",
       " 'interval_range',\n",
       " 'io',\n",
       " 'isna',\n",
       " 'isnull',\n",
       " 'json_normalize',\n",
       " 'lreshape',\n",
       " 'melt',\n",
       " 'merge',\n",
       " 'merge_asof',\n",
       " 'merge_ordered',\n",
       " 'notna',\n",
       " 'notnull',\n",
       " 'offsets',\n",
       " 'option_context',\n",
       " 'options',\n",
       " 'pandas',\n",
       " 'period_range',\n",
       " 'pivot',\n",
       " 'pivot_table',\n",
       " 'plotting',\n",
       " 'qcut',\n",
       " 'read_clipboard',\n",
       " 'read_csv',\n",
       " 'read_excel',\n",
       " 'read_feather',\n",
       " 'read_fwf',\n",
       " 'read_gbq',\n",
       " 'read_hdf',\n",
       " 'read_html',\n",
       " 'read_json',\n",
       " 'read_orc',\n",
       " 'read_parquet',\n",
       " 'read_pickle',\n",
       " 'read_sas',\n",
       " 'read_spss',\n",
       " 'read_sql',\n",
       " 'read_sql_query',\n",
       " 'read_sql_table',\n",
       " 'read_stata',\n",
       " 'read_table',\n",
       " 'reset_option',\n",
       " 'set_eng_float_format',\n",
       " 'set_option',\n",
       " 'show_versions',\n",
       " 'test',\n",
       " 'testing',\n",
       " 'timedelta_range',\n",
       " 'to_datetime',\n",
       " 'to_numeric',\n",
       " 'to_pickle',\n",
       " 'to_timedelta',\n",
       " 'tseries',\n",
       " 'unique',\n",
       " 'util',\n",
       " 'value_counts',\n",
       " 'wide_to_long']"
      ]
     },
     "execution_count": 56,
     "metadata": {},
     "output_type": "execute_result"
    }
   ],
   "source": [
    "import pandas as pd\n",
    "dir(pd)"
   ]
  },
  {
   "cell_type": "code",
   "execution_count": 37,
   "metadata": {},
   "outputs": [
    {
     "data": {
      "text/plain": [
       "True"
      ]
     },
     "execution_count": 37,
     "metadata": {},
     "output_type": "execute_result"
    }
   ],
   "source": [
    "class DaGiac:\n",
    "    def __init__(self,socanh):\n",
    "        self.socanh = socanh\n",
    "        self.canh = [0 for i in range(socanh)]\n",
    "    def nhapcanh(self):\n",
    "        self.canh = [float(input(\"Bạn hãy nhập giá trị cạnh \"+str(i+1)+\" : \")) for i in range(self.socanh)]\n",
    "    def hienthicanh(self):\n",
    "        for i in range(self.socanh):\n",
    "            print(\"Giá trị cạnh\",i+1,\"là\",self.canh[i])\n",
    "\n",
    "class TamGiac(DaGiac):\n",
    "    def __init__(self):\n",
    "        DaGiac.__init__(self,3)\n",
    "    def dientich(self):\n",
    "        a, b, c = self.canh\n",
    "        # Tính nửa chu vi\n",
    "        s = (a + b + c) / 2\n",
    "        area = (s*(s-a)*(s-b)*(s-c)) ** 0.5\n",
    "        print('Diện tích của hình tam giác là %0.2f' %area)\n",
    "amb = TamGiac()\n",
    "# amb.nhapcanh()\n",
    "# amb.dientich()\n",
    "# issubclass(TamGiac,DaGiac)\n",
    "isinstance(amb,DaGiac)\n",
    "# issubclass(float,int)"
   ]
  },
  {
   "cell_type": "code",
   "execution_count": 39,
   "metadata": {},
   "outputs": [
    {
     "data": {
      "text/plain": [
       "[__main__.M,\n",
       " __main__.B,\n",
       " __main__.A,\n",
       " __main__.X,\n",
       " __main__.Y,\n",
       " __main__.Z,\n",
       " object]"
      ]
     },
     "execution_count": 39,
     "metadata": {},
     "output_type": "execute_result"
    }
   ],
   "source": [
    "# đa kế thừa\n",
    "\n",
    "class X: pass\n",
    "class Y: pass\n",
    "class Z: pass\n",
    "\n",
    "class A(X,Y): pass\n",
    "class B(Y,Z): pass\n",
    "\n",
    "class M(B,A,Z): pass\n",
    "M.mro()\n",
    "\n",
    "# Output:\n",
    "# [<class '__main__.M'>, <class '__main__.B'>,\n",
    "# <class '__main__.A'>, <class '__main__.X'>,\n",
    "# <class '__main__.Y'>, <class '__main__.Z'>,\n",
    "# <class 'object'>]"
   ]
  },
  {
   "cell_type": "code",
   "execution_count": 40,
   "metadata": {},
   "outputs": [
    {
     "name": "stdout",
     "output_type": "stream",
     "text": [
      "Barking...\n",
      "Meo meo...\n"
     ]
    }
   ],
   "source": [
    "class Animal:\n",
    "    def speak(self):\n",
    "        print(\"Speaking...\")\n",
    "        \n",
    "class Dog(Animal):\n",
    "    def speak(self):\n",
    "        print(\"Barking...\")\n",
    "\n",
    "class Cat(Animal):\n",
    "    def speak(self):\n",
    "        print(\"Meo meo...\")\n",
    "\n",
    "d = Dog()\n",
    "d.speak()\n",
    "c = Cat()\n",
    "c.speak()"
   ]
  },
  {
   "cell_type": "code",
   "execution_count": 60,
   "metadata": {},
   "outputs": [
    {
     "data": {
      "text/plain": [
       "'(1,2)'"
      ]
     },
     "execution_count": 60,
     "metadata": {},
     "output_type": "execute_result"
    }
   ],
   "source": [
    "class Point:\n",
    "    def __init__(self, x, y):\n",
    "        self.x = x\n",
    "        self.y = y\n",
    "        \n",
    "    def __str__(self):\n",
    "        return \"({0},{1})\".format(self.x,self.y)\n",
    "p1 = Point(1,2)\n",
    "str(p1)"
   ]
  },
  {
   "cell_type": "code",
   "execution_count": 61,
   "metadata": {},
   "outputs": [
    {
     "name": "stdout",
     "output_type": "stream",
     "text": [
      "(3,5)\n"
     ]
    }
   ],
   "source": [
    "class Point:\n",
    "    def __init__(self, x = 0, y = 0):\n",
    "        self.x = x\n",
    "        self.y = y\n",
    "        \n",
    "    def __str__(self):\n",
    "        return \"({0},{1})\".format(self.x,self.y)\n",
    "\n",
    "    def __add__(self,other):\n",
    "        x = self.x + other.x\n",
    "        y = self.y + other.y\n",
    "        return Point(x,y)\n",
    "p1 = Point(1,2)\n",
    "p2 = Point(2,3)\n",
    "print(p1+p2)"
   ]
  },
  {
   "cell_type": "code",
   "execution_count": 72,
   "metadata": {},
   "outputs": [
    {
     "data": {
      "text/plain": [
       "'(3,4)'"
      ]
     },
     "execution_count": 72,
     "metadata": {},
     "output_type": "execute_result"
    }
   ],
   "source": [
    "class Point:\n",
    "    def __init__(self, x = 0, y = 0):\n",
    "        self.x = x\n",
    "        self.y = y\n",
    "    def __str__(self):\n",
    "        return \"({0},{1})\".format(self.x,self.y)\n",
    "        \n",
    "    def __lt__(self,other):\n",
    "        self_mag = (self.x ** 2) + (self.y ** 2)\n",
    "        other_mag = (other.x ** 2) + (other.y ** 2)\n",
    "        return self_mag < other_mag\n",
    "p1 = Point(3,4)\n",
    "p2 = Point(2,-3)\n",
    "p1>p2\n",
    "str(p1)"
   ]
  },
  {
   "cell_type": "code",
   "execution_count": 93,
   "metadata": {},
   "outputs": [
    {
     "name": "stdout",
     "output_type": "stream",
     "text": [
      "Nhập x:1\n",
      "Nhập y:2\n"
     ]
    },
    {
     "data": {
      "text/plain": [
       "3.0"
      ]
     },
     "execution_count": 93,
     "metadata": {},
     "output_type": "execute_result"
    }
   ],
   "source": [
    "class Point1:\n",
    "    def __init__(self,x=0,y=0):\n",
    "        self.x = x\n",
    "        self.y = y\n",
    "    def getnumber(self):\n",
    "        self.x = float(input(\"Nhập x:\"))\n",
    "        self.y = float(input(\"Nhập y:\"))\n",
    "    def calculate(self):\n",
    "        return self.x+self.y\n",
    "p1 = Point1()\n",
    "p1.getnumber()\n",
    "p1.calculate()"
   ]
  },
  {
   "cell_type": "code",
   "execution_count": 10,
   "metadata": {},
   "outputs": [
    {
     "name": "stdout",
     "output_type": "stream",
     "text": [
      "le\n"
     ]
    }
   ],
   "source": [
    "def hello(): \n",
    "    a = input()\n",
    "    def ham():\n",
    "        return (a.upper())\n",
    "    ham()\n",
    "b = hello()"
   ]
  },
  {
   "cell_type": "code",
   "execution_count": 44,
   "metadata": {},
   "outputs": [
    {
     "name": "stdout",
     "output_type": "stream",
     "text": [
      "1\n"
     ]
    }
   ],
   "source": [
    "class PowTwo:\n",
    "    def __init__(self, max = 0):\n",
    "        self.max = max\n",
    " \n",
    "    def __iter__(self):\n",
    "        self.n = 0\n",
    "        return self\n",
    " \n",
    "    def __next__(self):\n",
    "        if self.n <= self.max:\n",
    "            result = 2 ** self.n\n",
    "            self.n += 1\n",
    "            return result\n",
    "        else:\n",
    "            raise StopIteration\n",
    "a = PowTwo()\n",
    "i = iter(a)\n",
    "for x in i:\n",
    "    print(x)"
   ]
  },
  {
   "cell_type": "code",
   "execution_count": 26,
   "metadata": {},
   "outputs": [
    {
     "name": "stdout",
     "output_type": "stream",
     "text": [
      "In lan 1\n",
      "1\n",
      "In lan 2\n"
     ]
    }
   ],
   "source": [
    "# generator\n",
    "def my_gen():\n",
    "    n = 1\n",
    "    print(\"In lan 1\")\n",
    "    yield n\n",
    "    n+=1\n",
    "    print(\"In lan 2\")\n",
    "for i in my_gen():\n",
    "    print (i)"
   ]
  },
  {
   "cell_type": "code",
   "execution_count": 27,
   "metadata": {},
   "outputs": [
    {
     "name": "stdout",
     "output_type": "stream",
     "text": [
      "1\n",
      "4\n",
      "9\n",
      "16\n",
      "25\n"
     ]
    }
   ],
   "source": [
    "my_gen = [1,2,3,4,5]\n",
    "a = (x**2 for x in my_gen)\n",
    "for i in a:\n",
    "    print(i)"
   ]
  },
  {
   "cell_type": "code",
   "execution_count": 39,
   "metadata": {},
   "outputs": [
    {
     "name": "stdout",
     "output_type": "stream",
     "text": [
      "1\n",
      "2\n",
      "4\n",
      "8\n",
      "16\n"
     ]
    }
   ],
   "source": [
    "def PowTwo2(max=0):\n",
    "    n =0\n",
    "    while n<max:\n",
    "        yield 2**n\n",
    "        n+=1\n",
    "a = PowTwo2(5)\n",
    "for i in a:\n",
    "    print(i)"
   ]
  },
  {
   "cell_type": "code",
   "execution_count": 33,
   "metadata": {},
   "outputs": [
    {
     "name": "stdout",
     "output_type": "stream",
     "text": [
      "1\n",
      "2\n"
     ]
    }
   ],
   "source": [
    "def PowTwoGen(max = 0):\n",
    "    n = 0\n",
    "    while n < max:\n",
    "        yield 2 ** n\n",
    "        n += 1\n",
    "a = PowTwoGen(2)\n",
    "for i in a:\n",
    "    print(i)"
   ]
  },
  {
   "cell_type": "code",
   "execution_count": 53,
   "metadata": {},
   "outputs": [
    {
     "name": "stdout",
     "output_type": "stream",
     "text": [
      "Hello\n",
      "Hello\n"
     ]
    }
   ],
   "source": [
    "def print_msg(msg):\n",
    "    \n",
    "    def printer():\n",
    "        print(msg)\n",
    " \n",
    "    return printer\n",
    " \n",
    "a = print_msg(\"Hello\")\n",
    "a()\n",
    "del print_msg\n",
    "a()\n"
   ]
  },
  {
   "cell_type": "code",
   "execution_count": 57,
   "metadata": {},
   "outputs": [
    {
     "data": {
      "text/plain": [
       "3"
      ]
     },
     "execution_count": 57,
     "metadata": {},
     "output_type": "execute_result"
    }
   ],
   "source": [
    "def make_multiplier_of(n):\n",
    "    def multiplier(x):\n",
    "        return x * n\n",
    "    return multiplier\n",
    " \n",
    " # He so 3\n",
    "# times3 = make_multiplier_of(3)\n",
    " \n",
    " # He so 5\n",
    "#times5 = make_multiplier_of(5)\n",
    " \n",
    " # Output: 27\n",
    "#print(times3(9))\n",
    " \n",
    " # Output: 15\n",
    "#print(times5(3))\n",
    " \n",
    " # Output: 30\n",
    "#print(times5(times3(2)))\n",
    "time = make_multiplier_of(3)\n",
    "time(1)"
   ]
  },
  {
   "cell_type": "code",
   "execution_count": 70,
   "metadata": {},
   "outputs": [
    {
     "name": "stdout",
     "output_type": "stream",
     "text": [
      "hello\n"
     ]
    }
   ],
   "source": [
    "def first(msg):\n",
    "    print(msg)    \n",
    "\n",
    "second = first(\"hello\")\n",
    "second"
   ]
  },
  {
   "cell_type": "code",
   "execution_count": 74,
   "metadata": {},
   "outputs": [
    {
     "name": "stdout",
     "output_type": "stream",
     "text": [
      "I am ordinary\n",
      "I got decorated\n",
      "I am ordinary\n"
     ]
    }
   ],
   "source": [
    "def make_pretty(func):\n",
    "    def inner():\n",
    "        print(\"I got decorated\")\n",
    "        func()\n",
    "    return inner\n",
    " \n",
    "def ordinary():\n",
    "    print(\"I am ordinary\")\n",
    "ordinary()\n",
    "a = make_pretty(ordinary)\n",
    "a()"
   ]
  },
  {
   "cell_type": "code",
   "execution_count": 87,
   "metadata": {},
   "outputs": [
    {
     "name": "stdout",
     "output_type": "stream",
     "text": [
      "I got decorated\n",
      "Hello the world\n"
     ]
    }
   ],
   "source": [
    "def make_pretty(func):\n",
    "    def inner():\n",
    "        print(\"I got decorated\")\n",
    "        func()\n",
    "    return inner\n",
    "@make_pretty\n",
    "def ordinary():\n",
    "    print(\"Hello the world\")\n",
    "a = ordinary()\n",
    "a"
   ]
  },
  {
   "cell_type": "code",
   "execution_count": 86,
   "metadata": {},
   "outputs": [
    {
     "name": "stdout",
     "output_type": "stream",
     "text": [
      "I am going to divide 2 and 5\n"
     ]
    },
    {
     "data": {
      "text/plain": [
       "0.4"
      ]
     },
     "execution_count": 86,
     "metadata": {},
     "output_type": "execute_result"
    }
   ],
   "source": [
    "def smart_divide(func):\n",
    "    def inner(a,b):\n",
    "        print(\"I am going to divide\",a,\"and\",b)\n",
    "        if b == 0:\n",
    "            print(\"Whoops! cannot divide\")\n",
    "            return\n",
    "        return func(a,b)\n",
    "    return inner\n",
    " \n",
    "@smart_divide\n",
    "def divide(a,b):\n",
    "    return a/b\n",
    "\n",
    "divide(2,5)"
   ]
  },
  {
   "cell_type": "code",
   "execution_count": 100,
   "metadata": {},
   "outputs": [
    {
     "name": "stdout",
     "output_type": "stream",
     "text": [
      "%%%%%%%%%%%%%%%%%%%%%%%%%%%%%%\n",
      "******************************\n",
      "Hello\n",
      "******************************\n",
      "%%%%%%%%%%%%%%%%%%%%%%%%%%%%%%\n"
     ]
    }
   ],
   "source": [
    "def star(func):\n",
    "    def inner(*args, **kwargs):\n",
    "        print(\"*\" * 30)\n",
    "        func(*args, **kwargs)\n",
    "        print(\"*\" * 30)\n",
    "    return inner\n",
    " \n",
    "def percent(func):\n",
    "    def inner(*args, **kwargs):\n",
    "        print(\"%\" * 30)\n",
    "        func(*args)\n",
    "        print(\"%\" * 30)\n",
    "    return inner\n",
    " \n",
    "@percent\n",
    "@star\n",
    "def printer(msg):\n",
    "    print(msg)\n",
    "printer(\"Hello\")"
   ]
  },
  {
   "cell_type": "code",
   "execution_count": 15,
   "metadata": {},
   "outputs": [
    {
     "data": {
      "text/plain": [
       "'Phuong'"
      ]
     },
     "execution_count": 15,
     "metadata": {},
     "output_type": "execute_result"
    }
   ],
   "source": [
    "class Kien:\n",
    "    def __init__(self,ho,ten):\n",
    "        self.ho = ho\n",
    "        self.ten = ten\n",
    "    @property\n",
    "    def emails(self):\n",
    "        return self.ho + \"_\" + self.ten +\"@gmail.com\"\n",
    "    @property\n",
    "    def ho_va_ten(self):\n",
    "        return self.ho + self.ten\n",
    "    @ho_va_ten.setter\n",
    "    def ho_va_ten(self,tenmoi):\n",
    "        ho_moi, ten_moi = tenmoi.split(' ')\n",
    "        self.ho = ho_moi\n",
    "        self.ten = ten_moi\n",
    "        return self.ho + self.ten\n",
    "A = Kien('Phuong','Anh')\n",
    "A.ho = 'Quang'\n",
    "A.ten = 'Kien'\n",
    "A.ho_va_ten = 'Phuong Anh'\n",
    "A.ho"
   ]
  },
  {
   "cell_type": "code",
   "execution_count": 22,
   "metadata": {},
   "outputs": [
    {
     "name": "stdout",
     "output_type": "stream",
     "text": [
      "helloKien  hi . Howdy2\n"
     ]
    }
   ],
   "source": [
    "import re\n",
    " \n",
    "string = 'hello2  hi . Howdy2'\n",
    "pattern = '\\d+'\n",
    " \n",
    "result = re.sub(pattern,'Kien',string,1) \n",
    "print(result)"
   ]
  },
  {
   "cell_type": "code",
   "execution_count": 33,
   "metadata": {},
   "outputs": [
    {
     "name": "stdout",
     "output_type": "stream",
     "text": [
      "Kien\n"
     ]
    }
   ],
   "source": [
    "class Get_name:\n",
    "    __name = 'Kien'\n",
    "    def _getname(self):\n",
    "        print(self.__name)\n",
    "a = Get_name()\n",
    "a._getname()"
   ]
  },
  {
   "cell_type": "code",
   "execution_count": 38,
   "metadata": {},
   "outputs": [
    {
     "name": "stdout",
     "output_type": "stream",
     "text": [
      "1*2*3*4\n"
     ]
    }
   ],
   "source": [
    "print(1,2,3,4, sep='*')"
   ]
  },
  {
   "cell_type": "code",
   "execution_count": 51,
   "metadata": {},
   "outputs": [
    {
     "name": "stdout",
     "output_type": "stream",
     "text": [
      "a = 30\n",
      "30\n"
     ]
    }
   ],
   "source": [
    "i = [1,2,3]\n",
    "def outerFunction():\n",
    "    global a\n",
    "    a = 20\n",
    "    def innerFunction():\n",
    "        global a\n",
    "        a = 30\n",
    "        print('a =', a) \n",
    "    return innerFunction()\n",
    "a = 10\n",
    "outerFunction()\n",
    "print(a)"
   ]
  },
  {
   "cell_type": "code",
   "execution_count": 41,
   "metadata": {},
   "outputs": [
    {
     "name": "stdout",
     "output_type": "stream",
     "text": [
      "Hello the world\n"
     ]
    }
   ],
   "source": [
    "def printsomething():\n",
    "    print(\"Hello the world\")\n",
    "a = printsomething()"
   ]
  },
  {
   "cell_type": "code",
   "execution_count": 52,
   "metadata": {},
   "outputs": [
    {
     "name": "stdout",
     "output_type": "stream",
     "text": [
      "1 1\n"
     ]
    }
   ],
   "source": [
    "class Point:\n",
    "    def __init__(self,x = 0,y = 0):\n",
    "        self.x = x+1\n",
    "        self.y = y+1\n",
    "o1 = Point()\n",
    "print(o1.x,o1.y)"
   ]
  },
  {
   "cell_type": "code",
   "execution_count": 56,
   "metadata": {},
   "outputs": [
    {
     "data": {
      "text/plain": [
       "[1, 2, 3, 4, 'a', 'd']"
      ]
     },
     "execution_count": 56,
     "metadata": {},
     "output_type": "execute_result"
    }
   ],
   "source": [
    "a = [1,2,3,4]\n",
    "b = ['a','d']\n",
    "a+b"
   ]
  },
  {
   "cell_type": "code",
   "execution_count": 72,
   "metadata": {},
   "outputs": [
    {
     "data": {
      "text/plain": [
       "-1"
      ]
     },
     "execution_count": 72,
     "metadata": {},
     "output_type": "execute_result"
    }
   ],
   "source": [
    "class Subsomething:\n",
    "    def __init__(self,x,y):\n",
    "        self.x = x\n",
    "        self.y =y\n",
    "    def __add__(self,other):\n",
    "        x = self.x - other.x\n",
    "        y = self.y - other.y\n",
    "        return Subsomething(x,y)\n",
    "p1 = Subsomething(1,2)\n",
    "p2 = Subsomething(2,3)\n",
    "result = p1+p2\n",
    "result.y"
   ]
  },
  {
   "cell_type": "code",
   "execution_count": 91,
   "metadata": {},
   "outputs": [
    {
     "name": "stdout",
     "output_type": "stream",
     "text": [
      "5\n",
      "0\n"
     ]
    }
   ],
   "source": [
    "def Addpoint(x,y):\n",
    "    return x+y\n",
    "a = Addpoint(2,3)\n",
    "def Point2(x):\n",
    "    return print(str(x))\n",
    "b = Point2(5)\n",
    "def Point3(x,y):\n",
    "    print(int(x)+int(y))\n",
    "c = Point3(0,0)"
   ]
  },
  {
   "cell_type": "code",
   "execution_count": 94,
   "metadata": {},
   "outputs": [
    {
     "name": "stdout",
     "output_type": "stream",
     "text": [
      "nhap chuoi a:Le Quang\n",
      "Nhap chuoi b:Kien\n",
      "Le QuangKien\n"
     ]
    }
   ],
   "source": [
    "def Point():\n",
    "    a = input('nhap chuoi a:')\n",
    "    b = input('Nhap chuoi b:')\n",
    "    print (a+b)\n",
    "Point()"
   ]
  },
  {
   "cell_type": "code",
   "execution_count": 119,
   "metadata": {},
   "outputs": [
    {
     "name": "stdout",
     "output_type": "stream",
     "text": [
      "Nhap chuoi 1:le\n",
      "Nhap chuoi 2:le\n",
      "le\n",
      "le\n"
     ]
    }
   ],
   "source": [
    "def Point():\n",
    "    a = input('Nhap chuoi 1:')\n",
    "    b = input('Nhap chuoi 2:')\n",
    "    if len(a)>len(b):\n",
    "        print(a)\n",
    "    elif len(a)<len(b):\n",
    "        print(b)\n",
    "    else:\n",
    "        print(a)\n",
    "        print(b)\n",
    "Point()\n"
   ]
  },
  {
   "cell_type": "code",
   "execution_count": 124,
   "metadata": {},
   "outputs": [
    {
     "name": "stdout",
     "output_type": "stream",
     "text": [
      "Nhap so:5\n",
      "5 la so le\n"
     ]
    }
   ],
   "source": [
    "def Chan_le():\n",
    "    a = input('Nhap so:')\n",
    "    if int(a)%2 ==0:\n",
    "        print(a +' '+'la so chan')\n",
    "    else:\n",
    "        print(a +' '+'la so le')\n",
    "Chan_le()\n",
    "    "
   ]
  },
  {
   "cell_type": "code",
   "execution_count": 157,
   "metadata": {},
   "outputs": [
    {
     "name": "stdout",
     "output_type": "stream",
     "text": [
      "1\n",
      "4\n",
      "9\n",
      "16\n",
      "25\n",
      "36\n",
      "49\n",
      "64\n",
      "81\n",
      "100\n",
      "121\n",
      "144\n",
      "169\n",
      "196\n",
      "225\n",
      "256\n",
      "289\n",
      "324\n",
      "361\n",
      "400\n"
     ]
    }
   ],
   "source": [
    "# Định nghĩa một hàm có thể tạo dictionary, chứa các key là số từ 1 đến 20 (bao gồm cả 1 và 20) và \n",
    "# các giá trị bình phương của chúng. Hàm chỉ in các giá trị mà thôi\n",
    "\n",
    "def Point():\n",
    "    d =dict()\n",
    "    for i in range(1,21):\n",
    "        d[i]=i**2\n",
    "        print(d[i])\n",
    "Point()"
   ]
  },
  {
   "cell_type": "code",
   "execution_count": 170,
   "metadata": {},
   "outputs": [
    {
     "name": "stdout",
     "output_type": "stream",
     "text": [
      "[2, 4, 6, 8, 10]\n"
     ]
    }
   ],
   "source": [
    "# Viết chương trình Python có thể lọc các số chẵn trong danh sách sử dụng hàm filter. Danh sách là [1,2,3,4,5,6,7,8,9,10].\n",
    "a = [i for i in range(1,11)]\n",
    "b = list(filter(lambda i: i%2==0,a))\n",
    "print(b)"
   ]
  },
  {
   "cell_type": "code",
   "execution_count": 1,
   "metadata": {},
   "outputs": [],
   "source": [
    "# Viết chương trình Python dùng map() để tạo list chứa các giá trị bình phương của các số trong [1,2,3,4,5,6,7,8,9,10]."
   ]
  },
  {
   "cell_type": "code",
   "execution_count": 2,
   "metadata": {},
   "outputs": [],
   "source": [
    "import pandas as pd"
   ]
  },
  {
   "cell_type": "code",
   "execution_count": 3,
   "metadata": {},
   "outputs": [
    {
     "data": {
      "text/html": [
       "<div>\n",
       "<style scoped>\n",
       "    .dataframe tbody tr th:only-of-type {\n",
       "        vertical-align: middle;\n",
       "    }\n",
       "\n",
       "    .dataframe tbody tr th {\n",
       "        vertical-align: top;\n",
       "    }\n",
       "\n",
       "    .dataframe thead th {\n",
       "        text-align: right;\n",
       "    }\n",
       "</style>\n",
       "<table border=\"1\" class=\"dataframe\">\n",
       "  <thead>\n",
       "    <tr style=\"text-align: right;\">\n",
       "      <th></th>\n",
       "      <th>a</th>\n",
       "      <th>b</th>\n",
       "      <th>c</th>\n",
       "    </tr>\n",
       "  </thead>\n",
       "  <tbody>\n",
       "    <tr>\n",
       "      <th>0</th>\n",
       "      <td>1</td>\n",
       "      <td>2</td>\n",
       "      <td>key</td>\n",
       "    </tr>\n",
       "    <tr>\n",
       "      <th>1</th>\n",
       "      <td>2</td>\n",
       "      <td>3</td>\n",
       "      <td>key</td>\n",
       "    </tr>\n",
       "    <tr>\n",
       "      <th>2</th>\n",
       "      <td>3</td>\n",
       "      <td>4</td>\n",
       "      <td>foo</td>\n",
       "    </tr>\n",
       "    <tr>\n",
       "      <th>3</th>\n",
       "      <td>4</td>\n",
       "      <td>5</td>\n",
       "      <td>foo</td>\n",
       "    </tr>\n",
       "  </tbody>\n",
       "</table>\n",
       "</div>"
      ],
      "text/plain": [
       "   a  b    c\n",
       "0  1  2  key\n",
       "1  2  3  key\n",
       "2  3  4  foo\n",
       "3  4  5  foo"
      ]
     },
     "execution_count": 3,
     "metadata": {},
     "output_type": "execute_result"
    }
   ],
   "source": [
    "df = pd.DataFrame({'a':[1,2,3,4],\n",
    "                  'b':[2,3,4,5],\n",
    "                  'c':['key','key','foo','foo']})\n",
    "df"
   ]
  },
  {
   "cell_type": "code",
   "execution_count": 5,
   "metadata": {},
   "outputs": [
    {
     "data": {
      "text/plain": [
       "0    1\n",
       "1    2\n",
       "2    3\n",
       "3    4\n",
       "Name: a, dtype: int64"
      ]
     },
     "execution_count": 5,
     "metadata": {},
     "output_type": "execute_result"
    }
   ],
   "source": [
    "df['a']"
   ]
  },
  {
   "cell_type": "code",
   "execution_count": 12,
   "metadata": {},
   "outputs": [
    {
     "data": {
      "text/html": [
       "<div>\n",
       "<style scoped>\n",
       "    .dataframe tbody tr th:only-of-type {\n",
       "        vertical-align: middle;\n",
       "    }\n",
       "\n",
       "    .dataframe tbody tr th {\n",
       "        vertical-align: top;\n",
       "    }\n",
       "\n",
       "    .dataframe thead th {\n",
       "        text-align: right;\n",
       "    }\n",
       "</style>\n",
       "<table border=\"1\" class=\"dataframe\">\n",
       "  <thead>\n",
       "    <tr style=\"text-align: right;\">\n",
       "      <th></th>\n",
       "      <th>a</th>\n",
       "      <th>b</th>\n",
       "      <th>c</th>\n",
       "    </tr>\n",
       "  </thead>\n",
       "  <tbody>\n",
       "    <tr>\n",
       "      <th>0</th>\n",
       "      <td>1</td>\n",
       "      <td>2</td>\n",
       "      <td>key</td>\n",
       "    </tr>\n",
       "    <tr>\n",
       "      <th>1</th>\n",
       "      <td>2</td>\n",
       "      <td>3</td>\n",
       "      <td>key</td>\n",
       "    </tr>\n",
       "  </tbody>\n",
       "</table>\n",
       "</div>"
      ],
      "text/plain": [
       "   a  b    c\n",
       "0  1  2  key\n",
       "1  2  3  key"
      ]
     },
     "execution_count": 12,
     "metadata": {},
     "output_type": "execute_result"
    }
   ],
   "source": [
    "df.iloc[:2,]"
   ]
  },
  {
   "cell_type": "code",
   "execution_count": 17,
   "metadata": {},
   "outputs": [],
   "source": [
    "lis = list(df['a'])"
   ]
  },
  {
   "cell_type": "code",
   "execution_count": 30,
   "metadata": {},
   "outputs": [
    {
     "name": "stdout",
     "output_type": "stream",
     "text": [
      "nhap day so1,2,3,4,5,6,7,8,9,10,11,12,13,14,15,16,17,18,19,20\n",
      "[1, 4, 9, 16, 25, 36, 49, 64, 81, 100, 121, 144, 169, 196, 225, 256, 289, 324, 361, 400]\n"
     ]
    }
   ],
   "source": [
    "# Viết chương trình Python dùng map() để tạo list chứa các giá trị bình phương của các số trong [1,2,3,4,5,6,7,8,9,10].\n",
    "import numpy as np\n",
    "def Square_list():\n",
    "    numbers = list(input('nhap day so').split(','))\n",
    "    lis = list(map(lambda x:int(x)**2,numbers))\n",
    "    print(lis)\n",
    "Square_list()"
   ]
  },
  {
   "cell_type": "code",
   "execution_count": 23,
   "metadata": {},
   "outputs": [
    {
     "data": {
      "text/plain": [
       "array([0, 1, 2, 3, 4, 5, 6, 7, 8, 9])"
      ]
     },
     "execution_count": 23,
     "metadata": {},
     "output_type": "execute_result"
    }
   ],
   "source": [
    "a = np.arange(10)\n",
    "a"
   ]
  },
  {
   "cell_type": "markdown",
   "metadata": {},
   "source": [
    "Test markdown"
   ]
  },
  {
   "cell_type": "code",
   "execution_count": 45,
   "metadata": {},
   "outputs": [
    {
     "data": {
      "text/plain": [
       "(2, 4, 6, 8, 10)"
      ]
     },
     "execution_count": 45,
     "metadata": {},
     "output_type": "execute_result"
    }
   ],
   "source": [
    "numbers = tuple((1,2,3,4,5,6,7,8,9,10))\n",
    "tuples1 = []\n",
    "for i in numbers:\n",
    "    if i%2==0:\n",
    "        tuples1.append(i)\n",
    "tuples2 = tuple(tuples1)\n",
    "tuples2"
   ]
  },
  {
   "cell_type": "code",
   "execution_count": 49,
   "metadata": {},
   "outputs": [
    {
     "data": {
      "text/plain": [
       "[2, 4, 6, 8, 10]"
      ]
     },
     "execution_count": 49,
     "metadata": {},
     "output_type": "execute_result"
    }
   ],
   "source": [
    "# Viết chương trình Python có thể lọc các số chẵn trong danh sách sử dụng hàm filter. Danh sách là [1,2,3,4,5,6,7,8,9,10].\n",
    "numbers2 = list(numbers)\n",
    "numbers3 = list(filter(lambda x: x%2==0,numbers2))\n",
    "numbers3"
   ]
  },
  {
   "cell_type": "code",
   "execution_count": 54,
   "metadata": {},
   "outputs": [
    {
     "data": {
      "text/plain": [
       "[4, 16, 36, 64, 100]"
      ]
     },
     "execution_count": 54,
     "metadata": {},
     "output_type": "execute_result"
    }
   ],
   "source": [
    "# Viết chương trình Python dùng map() và filter() để tạo list chứa giá trị bình phương của các số chẵn trong [1,2,3,4,5,6,7,8,9,10].\n",
    "Square = list(map(lambda i: i**2,filter(lambda x: x%2==0,numbers)))\n",
    "Square"
   ]
  },
  {
   "cell_type": "code",
   "execution_count": 72,
   "metadata": {},
   "outputs": [
    {
     "name": "stdout",
     "output_type": "stream",
     "text": [
      "Viet Nam\n",
      "Viet Nam\n"
     ]
    }
   ],
   "source": [
    "class VietNam:\n",
    "    @staticmethod\n",
    "    def printNationality():\n",
    "        print('Viet Nam')\n",
    "VN = VietNam()\n",
    "VN.printNationality()\n",
    "VietNam.printNationality()"
   ]
  },
  {
   "cell_type": "code",
   "execution_count": 73,
   "metadata": {},
   "outputs": [
    {
     "name": "stdout",
     "output_type": "stream",
     "text": [
      "VietNam\n"
     ]
    }
   ],
   "source": [
    "class VietNam:\n",
    "    def printNational():\n",
    "        print('VietNam')\n",
    "class HaNoi(VietNam):\n",
    "    pass\n",
    "HaNoi.printNational()"
   ]
  },
  {
   "cell_type": "code",
   "execution_count": 74,
   "metadata": {},
   "outputs": [
    {
     "name": "stdout",
     "output_type": "stream",
     "text": [
      "<__main__.Vietnam object at 0x000001BB6DEEF748>\n",
      "<__main__.Hanoi object at 0x000001BB6DEEFD08>\n"
     ]
    }
   ],
   "source": [
    "class Vietnam(object):\n",
    "    pass\n",
    "\n",
    "class Hanoi(Vietnam):\n",
    "    pass\n",
    "# Bài Python 51, Code by Quantrimang.com\n",
    "VietnamVodich = Vietnam()\n",
    "NguoiHanoi = Hanoi()\n",
    "print (VietnamVodich)\n",
    "print (NguoiHanoi)"
   ]
  },
  {
   "cell_type": "code",
   "execution_count": 91,
   "metadata": {},
   "outputs": [
    {
     "name": "stdout",
     "output_type": "stream",
     "text": [
      "6.283185307179586\n"
     ]
    }
   ],
   "source": [
    "from math import pi\n",
    "class Circle:\n",
    "    def __init__(self,r):\n",
    "        self.r = r\n",
    "    def area(self):\n",
    "        print((1/2)*pi*self.r**2)\n",
    "a = Circle(2)\n",
    "a.area()"
   ]
  },
  {
   "cell_type": "code",
   "execution_count": 93,
   "metadata": {},
   "outputs": [
    {
     "name": "stdout",
     "output_type": "stream",
     "text": [
      "12\n"
     ]
    }
   ],
   "source": [
    "class Hinhchunhat:\n",
    "    def __init__(self,d,r):\n",
    "        self.d =d\n",
    "        self.r =r\n",
    "    def area(self):\n",
    "        return self.d*self.r\n",
    "A = Hinhchunhat(3,4)\n",
    "print(A.area())"
   ]
  },
  {
   "cell_type": "code",
   "execution_count": 95,
   "metadata": {},
   "outputs": [
    {
     "name": "stdout",
     "output_type": "stream",
     "text": [
      "9\n"
     ]
    }
   ],
   "source": [
    "class Shape(object):\n",
    "    def __init__(self):\n",
    "        pass\n",
    "\n",
    "    def area(self):\n",
    "        return 0\n",
    "# Bài Python 54, Code by Quantrimang.com\n",
    "class Square(Shape):\n",
    "    def __init__(self, l):\n",
    "        Shape.__init__(self)\n",
    "        self.length = l\n",
    "\n",
    "    def area(self):\n",
    "        return self.length*self.length\n",
    "\n",
    "aSquare= Square(3)\n",
    "print (aSquare.area())"
   ]
  },
  {
   "cell_type": "code",
   "execution_count": 103,
   "metadata": {},
   "outputs": [
    {
     "name": "stdout",
     "output_type": "stream",
     "text": [
      "Phần tử: a\n",
      "Có ngoại lệ  <class 'ValueError'>  xảy ra.\n",
      "Nhập phần tử tiếp theo\n",
      "\n",
      "Phần tử: 0\n",
      "Có ngoại lệ  <class 'ZeroDivisionError'>  xảy ra.\n",
      "Nhập phần tử tiếp theo\n",
      "\n",
      "Phần tử: 2\n",
      "Kết quả với phần tử 2 là: 0.5\n"
     ]
    }
   ],
   "source": [
    "# import module sys để gọi ra các ngoại lệ\n",
    "import sys\n",
    "\n",
    "randomList = ['a', 0, 2]\n",
    "\n",
    "for nhap in randomList:\n",
    "    try:\n",
    "        print(\"Phần tử:\", nhap)\n",
    "        r = 1/int(nhap)\n",
    "        break\n",
    "    except:\n",
    "        print(\"Có ngoại lệ \",sys.exc_info()[0],\" xảy ra.\")\n",
    "        print(\"Nhập phần tử tiếp theo\")\n",
    "        print()\n",
    "print(\"Kết quả với phần tử\",nhap,\"là:\",r)"
   ]
  },
  {
   "cell_type": "code",
   "execution_count": 9,
   "metadata": {},
   "outputs": [
    {
     "name": "stdout",
     "output_type": "stream",
     "text": [
      "Nhập một số trong khoảng 1-10: 1\n",
      "Số bạn vừa nhập nằm ngoài khoảng cho phép mất rồi!\n"
     ]
    }
   ],
   "source": [
    "try:\n",
    "    x = input('Nhập một số trong khoảng 1-10: ')\n",
    "    if x<1 or x>10:\n",
    "        raise Exception\n",
    "        print ('Bạn vừa nhập một số hợp lệ :D')\n",
    "except:\n",
    "    print ('Số bạn vừa nhập nằm ngoài khoảng cho phép mất rồi!')"
   ]
  },
  {
   "cell_type": "code",
   "execution_count": 12,
   "metadata": {},
   "outputs": [
    {
     "name": "stdout",
     "output_type": "stream",
     "text": [
      "Nhập một số nguyên dương: 1\n"
     ]
    }
   ],
   "source": [
    "try:\n",
    "    a = int(input(\"Nhập một số nguyên dương: \"))\n",
    "    if a <= 0:\n",
    "        raise ValueError(\"Số bạn vừa nhập không phải số nguyên dương.\")\n",
    "except ValueError as ve:\n",
    "    print(ve)\n"
   ]
  },
  {
   "cell_type": "code",
   "execution_count": 17,
   "metadata": {},
   "outputs": [
    {
     "name": "stdout",
     "output_type": "stream",
     "text": [
      "Nhập số chia:5\n",
      "Nhập số bị chia:0\n",
      "<class 'ZeroDivisionError'>\n"
     ]
    }
   ],
   "source": [
    "import sys\n",
    "try:\n",
    "    a = int(input('Nhập số chia:'))\n",
    "    b = int(input('Nhập số bị chia:'))\n",
    "    result = a/b\n",
    "    print(result)\n",
    "    if b == 0:\n",
    "        raise Exception\n",
    "except ZeroDivisionError:\n",
    "    print(sys.exc_info()[0])\n"
   ]
  },
  {
   "cell_type": "code",
   "execution_count": 27,
   "metadata": {},
   "outputs": [
    {
     "name": "stdout",
     "output_type": "stream",
     "text": [
      "Nhập số chia:5\n",
      "Nhập số bị chia:0\n",
      "<class 'ZeroDivisionError'>\n"
     ]
    }
   ],
   "source": [
    "try:\n",
    "    a = int(input('Nhập số chia:'))\n",
    "    b = int(input('Nhập số bị chia:'))\n",
    "    result = a/b\n",
    "    print(result)\n",
    "    if b == 0:\n",
    "        raise Exception\n",
    "except ZeroDivisionError:\n",
    "    print(sys.exc_info()[0])\n"
   ]
  },
  {
   "cell_type": "code",
   "execution_count": 25,
   "metadata": {},
   "outputs": [
    {
     "name": "stdout",
     "output_type": "stream",
     "text": [
      "Chia một số cho 0!\n",
      "Phép tính bị hủy\n"
     ]
    }
   ],
   "source": [
    "def throws():\n",
    "    return 5/0\n",
    "# Bài Python 56, Code by Quantrimang.com\n",
    "try:\n",
    "    throws()\n",
    "except ZeroDivisionError:\n",
    "    print (\"Chia một số cho 0!\")\n",
    "except Exception as problem:\n",
    "    print ('Bắt được một exception')\n",
    "finally:\n",
    "    print ('Phép tính bị hủy')\n",
    "    "
   ]
  },
  {
   "cell_type": "code",
   "execution_count": 29,
   "metadata": {},
   "outputs": [
    {
     "name": "stdout",
     "output_type": "stream",
     "text": [
      "nhap email:Anh_Kien@google.com\n",
      "Anh_Kien\n",
      "google\n"
     ]
    }
   ],
   "source": [
    "# username@companyname.com - in username va company name\n",
    "# nhap\n",
    "# tach bang regex -print\n",
    "def Email_name():\n",
    "    \"\"\"Nhan email va tra ve username + companyname\"\"\"\n",
    "    a = input(\"nhap email:\").split('@')\n",
    "    username = a[0]\n",
    "    companyname = a[1].split('.')[0]\n",
    "    print(username)\n",
    "    print(companyname)\n",
    "Email_name()"
   ]
  },
  {
   "cell_type": "code",
   "execution_count": 49,
   "metadata": {},
   "outputs": [
    {
     "name": "stdout",
     "output_type": "stream",
     "text": [
      "kien@le.com\n",
      "le\n"
     ]
    }
   ],
   "source": [
    "import re\n",
    "emailAddress = input()\n",
    "pat2 = \"(\\w+)@(\\w+)\\.(com)\"\n",
    "re2 = re.match(pat2,emailAddress)\n",
    "\n",
    "#print (re2.group(1)) \n",
    "print(re2.group(2))\n",
    "#for i in re2.group():print(i)"
   ]
  },
  {
   "cell_type": "code",
   "execution_count": 51,
   "metadata": {},
   "outputs": [
    {
     "name": "stdout",
     "output_type": "stream",
     "text": [
      "Kien Anh11\n"
     ]
    },
    {
     "data": {
      "text/plain": [
       "['1', '1']"
      ]
     },
     "execution_count": 51,
     "metadata": {},
     "output_type": "execute_result"
    }
   ],
   "source": [
    "# Viết một chương trình chấp nhận chuỗi từ được phân tách bằng khoảng trống và in các từ chỉ gồm chữ số.\n",
    "tach = input().split(' ')\n",
    "result = []\n",
    "for i in tach:\n",
    "    for x in i:\n",
    "        if x.isdigit():\n",
    "            result.append(x)\n",
    "result\n",
    "            "
   ]
  },
  {
   "cell_type": "code",
   "execution_count": 53,
   "metadata": {},
   "outputs": [
    {
     "name": "stdout",
     "output_type": "stream",
     "text": [
      "KienAnh_11\n"
     ]
    },
    {
     "data": {
      "text/plain": [
       "['1', '1']"
      ]
     },
     "execution_count": 53,
     "metadata": {},
     "output_type": "execute_result"
    }
   ],
   "source": [
    "tach = input()\n",
    "ketqua = re.findall('\\d',tach)\n",
    "ketqua"
   ]
  },
  {
   "cell_type": "code",
   "execution_count": 54,
   "metadata": {},
   "outputs": [
    {
     "name": "stdout",
     "output_type": "stream",
     "text": [
      "Hello world!\n"
     ]
    }
   ],
   "source": [
    "# Bài Python 61, Code by Quantrimang.com\n",
    "unicodeString = u\"Hello world!\"\n",
    "print (unicodeString) "
   ]
  },
  {
   "cell_type": "code",
   "execution_count": 57,
   "metadata": {},
   "outputs": [
    {
     "name": "stdout",
     "output_type": "stream",
     "text": [
      "Kien_Anh@\n",
      "b'Kien_Anh@'\n"
     ]
    }
   ],
   "source": [
    "s = input()\n",
    "v =s.encode()\n",
    "print(v)"
   ]
  },
  {
   "cell_type": "code",
   "execution_count": 65,
   "metadata": {},
   "outputs": [
    {
     "name": "stdout",
     "output_type": "stream",
     "text": [
      "3\n",
      "301\n"
     ]
    }
   ],
   "source": [
    "# Viết chương trình tính: f(n)=f(n-1)+100 khi n>0 và f(0)=1, với n là số được nhập vào (n>0).\n",
    "n = int(input())\n",
    "s = 1\n",
    "if n <= 0:\n",
    "    print('Nhap lai de ban oi, n>0')\n",
    "else:\n",
    "    for i in range(n):\n",
    "        s+=100\n",
    "    print(s)"
   ]
  },
  {
   "cell_type": "code",
   "execution_count": 66,
   "metadata": {},
   "outputs": [
    {
     "name": "stdout",
     "output_type": "stream",
     "text": [
      "Nhập số n>0: 3\n",
      "300\n"
     ]
    }
   ],
   "source": [
    "def f(n):\n",
    "    if n==0:\n",
    "        return 0\n",
    "    else:\n",
    "        return f(n-1)+100\n",
    "#Bài Python 65, Code by Quantrimang.com\n",
    "n=int(input(\"Nhập số n>0: \"))\n",
    "print (f(n)) "
   ]
  },
  {
   "cell_type": "code",
   "execution_count": 74,
   "metadata": {},
   "outputs": [
    {
     "name": "stdout",
     "output_type": "stream",
     "text": [
      "nhap x:7\n",
      "13\n"
     ]
    }
   ],
   "source": [
    "x = int(input('nhap x:'))\n",
    "def f(x):\n",
    "    if x ==0:\n",
    "        return 0\n",
    "    elif x==1:\n",
    "        return 1\n",
    "    else:\n",
    "        return f(x-1)+f(x-2)\n",
    "print(f(x))"
   ]
  },
  {
   "cell_type": "code",
   "execution_count": 92,
   "metadata": {},
   "outputs": [
    {
     "name": "stdout",
     "output_type": "stream",
     "text": [
      "nhap n:5\n",
      "0\n",
      "None\n",
      "2\n",
      "None\n",
      "4\n",
      "None\n"
     ]
    }
   ],
   "source": [
    "# Viết chương trình sử dụng generator để in số chẵn trong khoảng từ 0 đến n, cách nhau bởi dấu phẩy, n là số được nhập vào.\n",
    "def Gen():\n",
    "    n = int(input('nhap n:'))\n",
    "    for i in range(n):\n",
    "        if i%2 ==0:\n",
    "            yield i\n",
    "a = Gen()\n",
    "for x in a:\n",
    "    print(x)"
   ]
  },
  {
   "cell_type": "code",
   "execution_count": 93,
   "metadata": {},
   "outputs": [
    {
     "name": "stdout",
     "output_type": "stream",
     "text": [
      "Nhập n: 5\n",
      "Các số chẵn trong khoảng 0 và n là:  0,2,4\n"
     ]
    }
   ],
   "source": [
    "def EvenGenerator(n):\n",
    "    i=0\n",
    "    while i<=n:\n",
    "        if i%2==0:\n",
    "            yield i\n",
    "        i+=1\n",
    "\n",
    "# Bài tập Python 68, Code by Quantrimang.com\n",
    "n=int(input(\"Nhập n: \"))\n",
    "values = []\n",
    "for i in EvenGenerator(n):\n",
    "    values.append(str(i))\n",
    "\n",
    "print (\"Các số chẵn trong khoảng 0 và n là: \",\",\".join(values))"
   ]
  },
  {
   "cell_type": "code",
   "execution_count": 94,
   "metadata": {},
   "outputs": [
    {
     "name": "stdout",
     "output_type": "stream",
     "text": [
      "Nhap n:100\n",
      "so chia het 5 va 7: 0,35,70\n"
     ]
    }
   ],
   "source": [
    "def Gene(n):\n",
    "    i = 0\n",
    "    while i<=n:\n",
    "        if (i%5==0 and i%7==0):\n",
    "            yield i\n",
    "        i+=1\n",
    "n = int(input('Nhap n:'))\n",
    "result = []\n",
    "for x in Gene(n):\n",
    "    result.append(str(x))\n",
    "print(\"so chia het 5 va 7:\",\",\".join(result))"
   ]
  },
  {
   "cell_type": "code",
   "execution_count": 97,
   "metadata": {},
   "outputs": [],
   "source": [
    "li = [2,4,6,8]\n",
    "for i in li:\n",
    "    assert i%2==0\n"
   ]
  },
  {
   "cell_type": "code",
   "execution_count": 100,
   "metadata": {},
   "outputs": [
    {
     "ename": "AssertionError",
     "evalue": "Lanh hon do khong tuyet doi!",
     "output_type": "error",
     "traceback": [
      "\u001b[1;31m---------------------------------------------------------------------------\u001b[0m",
      "\u001b[1;31mAssertionError\u001b[0m                            Traceback (most recent call last)",
      "\u001b[1;32m<ipython-input-100-a9adba5c5c2c>\u001b[0m in \u001b[0;36m<module>\u001b[1;34m\u001b[0m\n\u001b[0;32m      2\u001b[0m     \u001b[1;32massert\u001b[0m \u001b[1;33m(\u001b[0m\u001b[0mNhietdo\u001b[0m \u001b[1;33m>=\u001b[0m \u001b[1;36m0\u001b[0m\u001b[1;33m)\u001b[0m\u001b[1;33m,\u001b[0m\u001b[1;34m\"Lanh hon do khong tuyet doi!\"\u001b[0m\u001b[1;33m\u001b[0m\u001b[1;33m\u001b[0m\u001b[0m\n\u001b[0;32m      3\u001b[0m     \u001b[1;32mreturn\u001b[0m \u001b[1;33m(\u001b[0m\u001b[1;33m(\u001b[0m\u001b[0mNhietdo\u001b[0m\u001b[1;33m-\u001b[0m\u001b[1;36m273\u001b[0m\u001b[1;33m)\u001b[0m\u001b[1;33m*\u001b[0m\u001b[1;36m1.8\u001b[0m\u001b[1;33m)\u001b[0m\u001b[1;33m+\u001b[0m\u001b[1;36m32\u001b[0m\u001b[1;33m\u001b[0m\u001b[1;33m\u001b[0m\u001b[0m\n\u001b[1;32m----> 4\u001b[1;33m \u001b[0mprint\u001b[0m \u001b[1;33m(\u001b[0m\u001b[0mChuyenKF\u001b[0m\u001b[1;33m(\u001b[0m\u001b[1;33m-\u001b[0m\u001b[1;36m5\u001b[0m\u001b[1;33m)\u001b[0m\u001b[1;33m)\u001b[0m\u001b[1;33m\u001b[0m\u001b[1;33m\u001b[0m\u001b[0m\n\u001b[0m",
      "\u001b[1;32m<ipython-input-100-a9adba5c5c2c>\u001b[0m in \u001b[0;36mChuyenKF\u001b[1;34m(Nhietdo)\u001b[0m\n\u001b[0;32m      1\u001b[0m \u001b[1;32mdef\u001b[0m \u001b[0mChuyenKF\u001b[0m\u001b[1;33m(\u001b[0m\u001b[0mNhietdo\u001b[0m\u001b[1;33m)\u001b[0m\u001b[1;33m:\u001b[0m\u001b[1;33m\u001b[0m\u001b[1;33m\u001b[0m\u001b[0m\n\u001b[1;32m----> 2\u001b[1;33m     \u001b[1;32massert\u001b[0m \u001b[1;33m(\u001b[0m\u001b[0mNhietdo\u001b[0m \u001b[1;33m>=\u001b[0m \u001b[1;36m0\u001b[0m\u001b[1;33m)\u001b[0m\u001b[1;33m,\u001b[0m\u001b[1;34m\"Lanh hon do khong tuyet doi!\"\u001b[0m\u001b[1;33m\u001b[0m\u001b[1;33m\u001b[0m\u001b[0m\n\u001b[0m\u001b[0;32m      3\u001b[0m     \u001b[1;32mreturn\u001b[0m \u001b[1;33m(\u001b[0m\u001b[1;33m(\u001b[0m\u001b[0mNhietdo\u001b[0m\u001b[1;33m-\u001b[0m\u001b[1;36m273\u001b[0m\u001b[1;33m)\u001b[0m\u001b[1;33m*\u001b[0m\u001b[1;36m1.8\u001b[0m\u001b[1;33m)\u001b[0m\u001b[1;33m+\u001b[0m\u001b[1;36m32\u001b[0m\u001b[1;33m\u001b[0m\u001b[1;33m\u001b[0m\u001b[0m\n\u001b[0;32m      4\u001b[0m \u001b[0mprint\u001b[0m \u001b[1;33m(\u001b[0m\u001b[0mChuyenKF\u001b[0m\u001b[1;33m(\u001b[0m\u001b[1;33m-\u001b[0m\u001b[1;36m5\u001b[0m\u001b[1;33m)\u001b[0m\u001b[1;33m)\u001b[0m\u001b[1;33m\u001b[0m\u001b[1;33m\u001b[0m\u001b[0m\n",
      "\u001b[1;31mAssertionError\u001b[0m: Lanh hon do khong tuyet doi!"
     ]
    }
   ],
   "source": [
    "def ChuyenKF(Nhietdo):\n",
    "    assert (Nhietdo >= 0),\"Lanh hon do khong tuyet doi!\"\n",
    "    return ((Nhietdo-273)*1.8)+32\n",
    "print (ChuyenKF(-5))"
   ]
  },
  {
   "cell_type": "code",
   "execution_count": 1,
   "metadata": {},
   "outputs": [
    {
     "name": "stdout",
     "output_type": "stream",
     "text": [
      "nhap bieu thuc cua ban:3**2\n",
      "9\n"
     ]
    }
   ],
   "source": [
    "expression  = input('nhap bieu thuc cua ban:')\n",
    "print(eval(expression))"
   ]
  },
  {
   "cell_type": "code",
   "execution_count": 13,
   "metadata": {},
   "outputs": [
    {
     "name": "stdout",
     "output_type": "stream",
     "text": [
      "5.0\n",
      "3.0\n"
     ]
    }
   ],
   "source": [
    "from math import *\n",
    "\n",
    "# Code dưới đây sẽ xảy ra exception\n",
    "# print(eval('sqrt(25)', {}))\n",
    "# print(eval('sqrt(25)',{}))\n",
    "a = 25\n",
    "print(eval('chandai(25)',{'chandai':sqrt,'channgan':pow}))\n",
    "print(eval('canbachai(9)', {'canbachai': sqrt, 'luythua': pow}))"
   ]
  },
  {
   "cell_type": "code",
   "execution_count": 14,
   "metadata": {},
   "outputs": [
    {
     "name": "stdout",
     "output_type": "stream",
     "text": [
      "2.23606797749979\n"
     ]
    }
   ],
   "source": [
    "a = 5\n",
    "print(eval('sqrt(a)', {'__builtins__': None}, {'a': a, 'sqrt': sqrt}))"
   ]
  },
  {
   "cell_type": "code",
   "execution_count": 39,
   "metadata": {},
   "outputs": [
    {
     "name": "stdout",
     "output_type": "stream",
     "text": [
      "5\n"
     ]
    }
   ],
   "source": [
    "import math\n",
    "def bin_search(li, element):\n",
    "    bottom = 0\n",
    "    top = len(li)-1\n",
    "    index = -1\n",
    "    while top>=bottom and index==-1:\n",
    "        mid = int(math.floor((top+bottom)/2.0))\n",
    "        if li[mid]==element:\n",
    "            index = mid\n",
    "        elif li[mid]>element:\n",
    "            top = mid-1\n",
    "        else:\n",
    "            bottom = mid+1\n",
    "    return index\n",
    "\n",
    "li=[2,50,52,55,442,442,500]\n",
    "print (bin_search(li,442))"
   ]
  },
  {
   "cell_type": "code",
   "execution_count": 31,
   "metadata": {},
   "outputs": [
    {
     "data": {
      "text/plain": [
       "8"
      ]
     },
     "execution_count": 31,
     "metadata": {},
     "output_type": "execute_result"
    }
   ],
   "source": [
    "len(li)"
   ]
  },
  {
   "cell_type": "code",
   "execution_count": 41,
   "metadata": {},
   "outputs": [
    {
     "name": "stdout",
     "output_type": "stream",
     "text": [
      "3\n"
     ]
    }
   ],
   "source": [
    "def Hong(l,element):\n",
    "    top = len(l) -1\n",
    "    bottom = 0\n",
    "    index = -1\n",
    "    while top>=bottom and index ==-1:\n",
    "        mid = math.floor((top+bottom)/2)\n",
    "        if l[mid]==element:\n",
    "            index = mid\n",
    "        elif l[mid]>element:\n",
    "            top = mid-1\n",
    "        else:\n",
    "            bottom = mid+1\n",
    "    return index\n",
    "a = [1,2,3,4,5,6,7]\n",
    "print(Hong(a,4))"
   ]
  },
  {
   "cell_type": "code",
   "execution_count": 55,
   "metadata": {},
   "outputs": [
    {
     "data": {
      "text/plain": [
       "50"
      ]
     },
     "execution_count": 55,
     "metadata": {},
     "output_type": "execute_result"
    }
   ],
   "source": [
    "import numpy as np\n",
    "np.random.seed(2)\n",
    "a = np.random.randint(10,100)\n",
    "a"
   ]
  },
  {
   "cell_type": "code",
   "execution_count": 58,
   "metadata": {},
   "outputs": [
    {
     "name": "stdout",
     "output_type": "stream",
     "text": [
      "66.44690869581912\n"
     ]
    }
   ],
   "source": [
    "import random\n",
    "print(random.random()*100)"
   ]
  },
  {
   "cell_type": "code",
   "execution_count": 95,
   "metadata": {},
   "outputs": [
    {
     "data": {
      "text/plain": [
       "10"
      ]
     },
     "execution_count": 95,
     "metadata": {},
     "output_type": "execute_result"
    }
   ],
   "source": [
    "# print(random.choice([i for i in range(1,11)if i%2==0]))\n",
    "a = random.choice([i for i in range(0,201)if i%5==0 and i%7==0])\n",
    "#print(a)\n",
    "b = random.sample(range(10,201),5)\n",
    "c = random.sample([i for i in range(100,201)if i%2==0],5)\n",
    "d = random.sample([i for i in range(0,1001)if i%5==0 and i%7==0],5)\n",
    "np.random.randint(7,16)"
   ]
  },
  {
   "cell_type": "code",
   "execution_count": 99,
   "metadata": {},
   "outputs": [
    {
     "name": "stdout",
     "output_type": "stream",
     "text": [
      "b'hello world!hello world!hello world!hello world!'\n"
     ]
    }
   ],
   "source": [
    "import zlib\n",
    "s = \"hello world!hello world!hello world!hello world!\"\n",
    "t = zlib.compress(s.encode(\"utf-8\"))\n",
    "#print (t)\n",
    "print (zlib.decompress(t))"
   ]
  },
  {
   "cell_type": "code",
   "execution_count": 2,
   "metadata": {},
   "outputs": [
    {
     "name": "stdout",
     "output_type": "stream",
     "text": [
      "0.0008685000000241416\n"
     ]
    }
   ],
   "source": [
    "import timeit \n",
    "  \n",
    "# code snippet to be executed only once \n",
    "mysetup = \"from math import sqrt\"\n",
    "  \n",
    "# code snippet whose execution time is to be measured \n",
    "mycode = ''' \n",
    "def example(): \n",
    "    mylist = [] \n",
    "    for x in range(100): \n",
    "        mylist.append(sqrt(x)) \n",
    "'''\n",
    "  \n",
    "# timeit statement \n",
    "print(timeit.timeit(setup = mysetup, \n",
    "                    stmt = mycode, \n",
    "                    number = 10000)) "
   ]
  },
  {
   "cell_type": "code",
   "execution_count": 3,
   "metadata": {},
   "outputs": [
    {
     "name": "stdout",
     "output_type": "stream",
     "text": [
      "0.0006551000001309149\n"
     ]
    }
   ],
   "source": [
    "import timeit \n",
    "  \n",
    "# code snippet to be executed only once \n",
    "from math import sqrt\n",
    "  \n",
    "# code snippet whose execution time is to be measured \n",
    "mycode = ''' \n",
    "def example(): \n",
    "    mylist = [] \n",
    "    for x in range(100): \n",
    "        mylist.append(sqrt(x)) \n",
    "'''\n",
    "  \n",
    "# timeit statement \n",
    "print(timeit.timeit(stmt = mycode, \n",
    "                    number = 10000)) "
   ]
  },
  {
   "cell_type": "code",
   "execution_count": 5,
   "metadata": {},
   "outputs": [
    {
     "name": "stdout",
     "output_type": "stream",
     "text": [
      "1.6999999843392288e-06\n"
     ]
    }
   ],
   "source": [
    "a = '''\n",
    "1+1\n",
    "'''\n",
    "print(timeit.timeit(stmt=a,number=100))"
   ]
  },
  {
   "cell_type": "code",
   "execution_count": 12,
   "metadata": {},
   "outputs": [
    {
     "name": "stdout",
     "output_type": "stream",
     "text": [
      "[3, 7, 8, 6]\n"
     ]
    }
   ],
   "source": [
    "import random\n",
    "List = [3,6,7,8]\n",
    "random.shuffle(List)\n",
    "print(List)"
   ]
  },
  {
   "cell_type": "code",
   "execution_count": 17,
   "metadata": {},
   "outputs": [
    {
     "name": "stdout",
     "output_type": "stream",
     "text": [
      "Anh Choi Bong Da\n",
      "Anh Choi Xep Hinh\n",
      "Anh Yeu Bong Da\n",
      "Anh Yeu Xep Hinh\n",
      "Em Choi Bong Da\n",
      "Em Choi Xep Hinh\n",
      "Em Yeu Bong Da\n",
      "Em Yeu Xep Hinh\n"
     ]
    }
   ],
   "source": [
    "S = ['Anh','Em']\n",
    "V = ['Choi','Yeu']\n",
    "O = ['Bong Da','Xep Hinh']\n",
    "for i in S:\n",
    "    for x in V:\n",
    "        for z in O:\n",
    "            cau = \"%s %s %s\" %(i,x,z)\n",
    "            print(cau)"
   ]
  },
  {
   "cell_type": "code",
   "execution_count": 21,
   "metadata": {},
   "outputs": [
    {
     "data": {
      "text/plain": [
       "[6, 22, 12, 24]"
      ]
     },
     "execution_count": 21,
     "metadata": {},
     "output_type": "execute_result"
    }
   ],
   "source": [
    "# viet chương trình in list sau khi xóa các số chẵn trong [5,6,77,45,22,12,24].\n",
    "L = [5,6,77,45,22,12,24]\n",
    "L2 = []\n",
    "for i in L:\n",
    "    if i%2 !=0:\n",
    "        L2.append(i)\n",
    "L3 = [x for x in L if x%2 ==0]\n",
    "L3"
   ]
  },
  {
   "cell_type": "code",
   "execution_count": 24,
   "metadata": {},
   "outputs": [],
   "source": [
    "# Viết chương trình in list sau khi đã xóa số thứ 0, thứ 2, thứ 4, thứ 6 trong [12,24,35,70,88,120,155].\n",
    "L = [12,24,35,70,88,120,155]\n",
    "L1 = []\n",
    "x = [0,2,4,6]\n",
    "for i in L:\n",
    "    if L.index(i) not in x:\n",
    "        L1.append(i)\n",
    "L2 = [x for i,x in enumerate(L) if i%2 !=0]"
   ]
  },
  {
   "cell_type": "code",
   "execution_count": 16,
   "metadata": {},
   "outputs": [
    {
     "data": {
      "text/plain": [
       "array([[[0, 0, 0, 0, 0, 0, 0, 0],\n",
       "        [0, 0, 0, 0, 0, 0, 0, 0],\n",
       "        [0, 0, 0, 0, 0, 0, 0, 0],\n",
       "        [0, 0, 0, 0, 0, 0, 0, 0],\n",
       "        [0, 0, 0, 0, 0, 0, 0, 0]],\n",
       "\n",
       "       [[0, 0, 0, 0, 0, 0, 0, 0],\n",
       "        [0, 0, 0, 0, 0, 0, 0, 0],\n",
       "        [0, 0, 0, 0, 0, 0, 0, 0],\n",
       "        [0, 0, 0, 0, 0, 0, 0, 0],\n",
       "        [0, 0, 0, 0, 0, 0, 0, 0]],\n",
       "\n",
       "       [[0, 0, 0, 0, 0, 0, 0, 0],\n",
       "        [0, 0, 0, 0, 0, 0, 0, 0],\n",
       "        [0, 0, 0, 0, 0, 0, 0, 0],\n",
       "        [0, 0, 0, 0, 0, 0, 0, 0],\n",
       "        [0, 0, 0, 0, 0, 0, 0, 0]]])"
      ]
     },
     "execution_count": 16,
     "metadata": {},
     "output_type": "execute_result"
    }
   ],
   "source": [
    "import numpy as np\n",
    "a = np.zeros((3,5,8),dtype = int)\n",
    "a"
   ]
  },
  {
   "cell_type": "code",
   "execution_count": 57,
   "metadata": {},
   "outputs": [
    {
     "name": "stdout",
     "output_type": "stream",
     "text": [
      "[35]\n"
     ]
    }
   ],
   "source": [
    "# Viet chuong trinh xoa cac so o vi tri 0,4,5 trong list [12,24,35,70,88,120,155].\n",
    "L = [12,24,35,70,88,120,155]\n",
    "l = [0,4,5]\n",
    "L1 = [x for i,x in enumerate(L) if i not in l]\n",
    "# Viết chương trình in list sau khi đã xóa giá trị 24 trong [12,24,35,24,88,120,155].\n",
    "for i in range(len(L)-1):\n",
    "    if L[i] ==24:\n",
    "        del L[i]\n",
    "L1 = [x for x in L if x!=24]\n",
    "# Với 2 list cho trước: [1,3,6,78,35,55] và [12,24,35,24,88,120,155],tạo list có phần tử là giao của 2 list đã cho.\n",
    "a = [1,3,6,78,35,55]\n",
    "b = [12,24,35,24,88,120,155]\n",
    "c = []\n",
    "for i in a:\n",
    "    for j in b:\n",
    "        if i == j:\n",
    "            c.append(i)\n",
    "# sử dụng set và thuộc tính &=\n",
    "a1 = set(a)\n",
    "b1 = set(b)\n",
    "a1&=b1\n",
    "print(list(a1))"
   ]
  },
  {
   "cell_type": "code",
   "execution_count": 58,
   "metadata": {},
   "outputs": [
    {
     "name": "stdout",
     "output_type": "stream",
     "text": [
      "[35, 12, 155, 24, 88, 120]\n"
     ]
    }
   ],
   "source": [
    "# Viết chương trình in list từ list [12,24,35,24,88,120,155,88,120,155], sau khi đã xóa hết các giá trị trùng nhau.\n",
    "li = [12,24,35,24,88,120,155,88,120,155]\n",
    "print(list(set(li)))"
   ]
  },
  {
   "cell_type": "code",
   "execution_count": 71,
   "metadata": {},
   "outputs": [
    {
     "data": {
      "text/plain": [
       "'Nu'"
      ]
     },
     "execution_count": 71,
     "metadata": {},
     "output_type": "execute_result"
    }
   ],
   "source": [
    "# Định nghĩa class Nguoi và 2 class con: Nam, Nu. Tất cả các class có method \"getGender\" có thể in \"Nam\" cho class Nam và \"Nữ\" cho class Nu.\n",
    "class Person:\n",
    "    def getGender():\n",
    "        return \"unknow\"\n",
    "class Nam(Person):\n",
    "    def getGender():\n",
    "        return \"Nam\"\n",
    "class Nu(Person):\n",
    "    def getGender():\n",
    "        return \"Nu\"\n",
    "Nu.getGender()"
   ]
  },
  {
   "cell_type": "code",
   "execution_count": 76,
   "metadata": {},
   "outputs": [
    {
     "name": "stdout",
     "output_type": "stream",
     "text": [
      "Nhap chuoi ky tu cua ban:le Quang kien\n",
      "(0, 'l')\n",
      "(1, 'e')\n",
      "(2, ' ')\n",
      "(3, 'Q')\n",
      "(4, 'u')\n",
      "(5, 'a')\n",
      "(6, 'n')\n",
      "(7, 'g')\n",
      "(8, ' ')\n",
      "(9, 'k')\n",
      "(10, 'i')\n",
      "(11, 'e')\n",
      "(12, 'n')\n"
     ]
    }
   ],
   "source": [
    "# Viết chương trình đếm và in số ký tự của chuỗi do người dùng nhập vào.\n",
    "li =input('Nhap chuoi ky tu cua ban:')\n",
    "for i in enumerate(li):\n",
    "    print(i)"
   ]
  },
  {
   "cell_type": "code",
   "execution_count": 80,
   "metadata": {},
   "outputs": [
    {
     "name": "stdout",
     "output_type": "stream",
     "text": [
      "Nhập chuỗi cần đếm ký tự: Kien\n",
      "K,1\n",
      "i,1\n",
      "e,1\n",
      "n,1\n"
     ]
    }
   ],
   "source": [
    "dic = {}\n",
    "chuoi=input(\"Nhập chuỗi cần đếm ký tự: \")\n",
    "for c in chuoi:\n",
    "    dic[c] = dic.get(c,0)+1\n",
    "print ('\\n'.join(['%s,%s' % (k, v) for k, v in dic.items()])) "
   ]
  },
  {
   "cell_type": "code",
   "execution_count": 89,
   "metadata": {},
   "outputs": [
    {
     "name": "stdout",
     "output_type": "stream",
     "text": [
      "nhap chuoi cua ban: Kien\n"
     ]
    },
    {
     "data": {
      "text/plain": [
       "'neiK'"
      ]
     },
     "execution_count": 89,
     "metadata": {},
     "output_type": "execute_result"
    }
   ],
   "source": [
    "# Viết chương trình nhận chuỗi đầu vào từ giao diện điều khiển và in nó theo thứ tự ngược lại.\n",
    "chuoi = input(\"nhap chuoi cua ban: \")\n",
    "chuoi[::-1]"
   ]
  },
  {
   "cell_type": "code",
   "execution_count": 93,
   "metadata": {},
   "outputs": [
    {
     "name": "stdout",
     "output_type": "stream",
     "text": [
      "[(1, 2, 3), (1, 3, 2), (2, 1, 3), (2, 3, 1), (3, 1, 2), (3, 2, 1)]\n"
     ]
    }
   ],
   "source": [
    "# Viết chương trình nhận chuỗi do người dùng nhập vào và in các ký tự có chỉ số chẵn\n",
    "# chuoi = input(\"nhap vao đi ban oi: \")\n",
    "#chuoi[::2]\n",
    "# Viết chương trình in tất cả các hoán vị của [1,2,3].\n",
    "import itertools\n",
    "li = [1,2,3]\n",
    "print(list(itertools.permutations(li)))"
   ]
  },
  {
   "cell_type": "code",
   "execution_count": null,
   "metadata": {},
   "outputs": [],
   "source": []
  }
 ],
 "metadata": {
  "kernelspec": {
   "display_name": "Python 3",
   "language": "python",
   "name": "python3"
  },
  "language_info": {
   "codemirror_mode": {
    "name": "ipython",
    "version": 3
   },
   "file_extension": ".py",
   "mimetype": "text/x-python",
   "name": "python",
   "nbconvert_exporter": "python",
   "pygments_lexer": "ipython3",
   "version": "3.7.6"
  }
 },
 "nbformat": 4,
 "nbformat_minor": 4
}
import pandas as pd
